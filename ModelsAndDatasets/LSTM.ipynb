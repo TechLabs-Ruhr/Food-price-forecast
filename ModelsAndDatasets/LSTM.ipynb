{
 "cells": [
  {
   "cell_type": "code",
   "execution_count": 1,
   "metadata": {},
   "outputs": [],
   "source": [
    "import torch\n",
    "import torch.nn as nn\n",
    "import random\n",
    "import pandas as pd\n",
    "import seaborn as sns\n",
    "from sklearn import preprocessing\n",
    "import matplotlib.pyplot as plt\n",
    "import numpy as np\n",
    "from tqdm.auto import tqdm\n",
    "%matplotlib inline\n"
   ]
  },
  {
   "cell_type": "code",
   "execution_count": 330,
   "metadata": {},
   "outputs": [
    {
     "name": "stdout",
     "output_type": "stream",
     "text": [
      "^C\n",
      "Note: you may need to restart the kernel to use updated packages.\n"
     ]
    }
   ],
   "source": [
    "%pip install -Uqq fastai fastbook"
   ]
  },
  {
   "cell_type": "code",
   "execution_count": 2,
   "metadata": {},
   "outputs": [],
   "source": [
    "import fastai\n",
    "from fastai import *\n",
    "from fastai.text import *\n",
    "from fastai.callbacks import *"
   ]
  },
  {
   "cell_type": "code",
   "execution_count": 3,
   "metadata": {},
   "outputs": [],
   "source": [
    "df = pd.read_csv('F:\\Git\\Food-price-forecast\\ModelsAndDatasets\\Datasets\\price_and_temperature.csv')"
   ]
  },
  {
   "cell_type": "code",
   "execution_count": 4,
   "metadata": {},
   "outputs": [],
   "source": [
    "scaler = preprocessing.MinMaxScaler(feature_range=(-1,1))\n",
    "df_scaled = df\n",
    "df_scaled['Food_Price'] = scaler.fit_transform(df['Food_Price'].values.reshape(-1,1)).flatten()"
   ]
  },
  {
   "cell_type": "code",
   "execution_count": 5,
   "metadata": {},
   "outputs": [
    {
     "data": {
      "text/html": [
       "<div>\n",
       "<style scoped>\n",
       "    .dataframe tbody tr th:only-of-type {\n",
       "        vertical-align: middle;\n",
       "    }\n",
       "\n",
       "    .dataframe tbody tr th {\n",
       "        vertical-align: top;\n",
       "    }\n",
       "\n",
       "    .dataframe thead th {\n",
       "        text-align: right;\n",
       "    }\n",
       "</style>\n",
       "<table border=\"1\" class=\"dataframe\">\n",
       "  <thead>\n",
       "    <tr style=\"text-align: right;\">\n",
       "      <th></th>\n",
       "      <th>Unnamed: 0</th>\n",
       "      <th>Date</th>\n",
       "      <th>Food_Price</th>\n",
       "      <th>Air_Temperature</th>\n",
       "    </tr>\n",
       "  </thead>\n",
       "  <tbody>\n",
       "    <tr>\n",
       "      <th>0</th>\n",
       "      <td>0</td>\n",
       "      <td>1996-01</td>\n",
       "      <td>-0.980926</td>\n",
       "      <td>-0.934503</td>\n",
       "    </tr>\n",
       "    <tr>\n",
       "      <th>1</th>\n",
       "      <td>1</td>\n",
       "      <td>1996-02</td>\n",
       "      <td>-0.964578</td>\n",
       "      <td>-0.884600</td>\n",
       "    </tr>\n",
       "    <tr>\n",
       "      <th>2</th>\n",
       "      <td>2</td>\n",
       "      <td>1996-03</td>\n",
       "      <td>-0.948229</td>\n",
       "      <td>-0.636647</td>\n",
       "    </tr>\n",
       "    <tr>\n",
       "      <th>3</th>\n",
       "      <td>3</td>\n",
       "      <td>1996-04</td>\n",
       "      <td>-0.940054</td>\n",
       "      <td>-0.059649</td>\n",
       "    </tr>\n",
       "    <tr>\n",
       "      <th>4</th>\n",
       "      <td>4</td>\n",
       "      <td>1996-05</td>\n",
       "      <td>-0.945504</td>\n",
       "      <td>0.154776</td>\n",
       "    </tr>\n",
       "    <tr>\n",
       "      <th>...</th>\n",
       "      <td>...</td>\n",
       "      <td>...</td>\n",
       "      <td>...</td>\n",
       "      <td>...</td>\n",
       "    </tr>\n",
       "    <tr>\n",
       "      <th>326</th>\n",
       "      <td>326</td>\n",
       "      <td>2023-03</td>\n",
       "      <td>1.000000</td>\n",
       "      <td>-0.267057</td>\n",
       "    </tr>\n",
       "    <tr>\n",
       "      <th>327</th>\n",
       "      <td>327</td>\n",
       "      <td>2023-04</td>\n",
       "      <td>0.970027</td>\n",
       "      <td>-0.127485</td>\n",
       "    </tr>\n",
       "    <tr>\n",
       "      <th>328</th>\n",
       "      <td>328</td>\n",
       "      <td>2023-05</td>\n",
       "      <td>0.961853</td>\n",
       "      <td>0.305263</td>\n",
       "    </tr>\n",
       "    <tr>\n",
       "      <th>329</th>\n",
       "      <td>329</td>\n",
       "      <td>2023-06</td>\n",
       "      <td>0.956403</td>\n",
       "      <td>0.732554</td>\n",
       "    </tr>\n",
       "    <tr>\n",
       "      <th>330</th>\n",
       "      <td>330</td>\n",
       "      <td>2023-07</td>\n",
       "      <td>NaN</td>\n",
       "      <td>0.745029</td>\n",
       "    </tr>\n",
       "  </tbody>\n",
       "</table>\n",
       "<p>331 rows × 4 columns</p>\n",
       "</div>"
      ],
      "text/plain": [
       "     Unnamed: 0     Date  Food_Price  Air_Temperature\n",
       "0             0  1996-01   -0.980926        -0.934503\n",
       "1             1  1996-02   -0.964578        -0.884600\n",
       "2             2  1996-03   -0.948229        -0.636647\n",
       "3             3  1996-04   -0.940054        -0.059649\n",
       "4             4  1996-05   -0.945504         0.154776\n",
       "..          ...      ...         ...              ...\n",
       "326         326  2023-03    1.000000        -0.267057\n",
       "327         327  2023-04    0.970027        -0.127485\n",
       "328         328  2023-05    0.961853         0.305263\n",
       "329         329  2023-06    0.956403         0.732554\n",
       "330         330  2023-07         NaN         0.745029\n",
       "\n",
       "[331 rows x 4 columns]"
      ]
     },
     "execution_count": 5,
     "metadata": {},
     "output_type": "execute_result"
    },
    {
     "data": {
      "image/png": "[encoded data removed]",
      "text/plain": [
       "<Figure size 1000x400 with 1 Axes>"
      ]
     },
     "metadata": {},
     "output_type": "display_data"
    }
   ],
   "source": [
    "df_scaled['Air_Temperature'] = scaler.fit_transform(df['Air_Temperature'].values.reshape(-1,1)).flatten()\n",
    "\n",
    "plt.figure(figsize=(10, 4))\n",
    "plt.plot(df_scaled['Air_Temperature'])\n",
    "plt.plot(df_scaled['Food_Price'])\n",
    "df_scaled"
   ]
  },
  {
   "cell_type": "code",
   "execution_count": 6,
   "metadata": {},
   "outputs": [],
   "source": [
    "#create sliding window\n",
    "def lead_with_pct_change(df, column, windows):\n",
    "    train_cols = []\n",
    "    for window in reversed(windows):\n",
    "        df['shift_pos_'+ str(window)] = df[column].shift(window).fillna(0)\n",
    "        train_cols.append('shift_pos_' + str(window))\n",
    "    return df[len(windows):], train_cols"
   ]
  },
  {
   "cell_type": "code",
   "execution_count": 7,
   "metadata": {},
   "outputs": [
    {
     "name": "stderr",
     "output_type": "stream",
     "text": [
      "C:\\Users\\Nutzer\\AppData\\Local\\Temp\\ipykernel_20216\\307390869.py:2: SettingWithCopyWarning: \n",
      "A value is trying to be set on a copy of a slice from a DataFrame.\n",
      "Try using .loc[row_indexer,col_indexer] = value instead\n",
      "\n",
      "See the caveats in the documentation: https://pandas.pydata.org/pandas-docs/stable/user_guide/indexing.html#returning-a-view-versus-a-copy\n",
      "  df_windows['group'] = df.groupby(df.index//6, sort=False)[\"Food_Price\"].agg(['ngroup'])\n"
     ]
    },
    {
     "data": {
      "text/html": [
       "<div>\n",
       "<style scoped>\n",
       "    .dataframe tbody tr th:only-of-type {\n",
       "        vertical-align: middle;\n",
       "    }\n",
       "\n",
       "    .dataframe tbody tr th {\n",
       "        vertical-align: top;\n",
       "    }\n",
       "\n",
       "    .dataframe thead th {\n",
       "        text-align: right;\n",
       "    }\n",
       "</style>\n",
       "<table border=\"1\" class=\"dataframe\">\n",
       "  <thead>\n",
       "    <tr style=\"text-align: right;\">\n",
       "      <th></th>\n",
       "      <th>Unnamed: 0</th>\n",
       "      <th>Date</th>\n",
       "      <th>Food_Price</th>\n",
       "      <th>shift_pos_12</th>\n",
       "      <th>shift_pos_11</th>\n",
       "      <th>shift_pos_10</th>\n",
       "      <th>shift_pos_9</th>\n",
       "      <th>shift_pos_8</th>\n",
       "      <th>shift_pos_7</th>\n",
       "      <th>shift_pos_6</th>\n",
       "      <th>shift_pos_5</th>\n",
       "      <th>shift_pos_4</th>\n",
       "      <th>shift_pos_3</th>\n",
       "      <th>shift_pos_2</th>\n",
       "      <th>shift_pos_1</th>\n",
       "      <th>group</th>\n",
       "    </tr>\n",
       "  </thead>\n",
       "  <tbody>\n",
       "    <tr>\n",
       "      <th>12</th>\n",
       "      <td>12</td>\n",
       "      <td>1997-01</td>\n",
       "      <td>-0.948229</td>\n",
       "      <td>-0.980926</td>\n",
       "      <td>-0.964578</td>\n",
       "      <td>-0.948229</td>\n",
       "      <td>-0.940054</td>\n",
       "      <td>-0.945504</td>\n",
       "      <td>-0.948229</td>\n",
       "      <td>-0.948229</td>\n",
       "      <td>-0.972752</td>\n",
       "      <td>-0.991826</td>\n",
       "      <td>-0.997275</td>\n",
       "      <td>-1.000000</td>\n",
       "      <td>-0.994550</td>\n",
       "      <td>2</td>\n",
       "    </tr>\n",
       "    <tr>\n",
       "      <th>13</th>\n",
       "      <td>13</td>\n",
       "      <td>1997-02</td>\n",
       "      <td>-0.945504</td>\n",
       "      <td>-0.964578</td>\n",
       "      <td>-0.948229</td>\n",
       "      <td>-0.940054</td>\n",
       "      <td>-0.945504</td>\n",
       "      <td>-0.948229</td>\n",
       "      <td>-0.948229</td>\n",
       "      <td>-0.972752</td>\n",
       "      <td>-0.991826</td>\n",
       "      <td>-0.997275</td>\n",
       "      <td>-1.000000</td>\n",
       "      <td>-0.994550</td>\n",
       "      <td>-0.948229</td>\n",
       "      <td>2</td>\n",
       "    </tr>\n",
       "    <tr>\n",
       "      <th>14</th>\n",
       "      <td>14</td>\n",
       "      <td>1997-03</td>\n",
       "      <td>-0.956403</td>\n",
       "      <td>-0.948229</td>\n",
       "      <td>-0.940054</td>\n",
       "      <td>-0.945504</td>\n",
       "      <td>-0.948229</td>\n",
       "      <td>-0.948229</td>\n",
       "      <td>-0.972752</td>\n",
       "      <td>-0.991826</td>\n",
       "      <td>-0.997275</td>\n",
       "      <td>-1.000000</td>\n",
       "      <td>-0.994550</td>\n",
       "      <td>-0.948229</td>\n",
       "      <td>-0.945504</td>\n",
       "      <td>2</td>\n",
       "    </tr>\n",
       "    <tr>\n",
       "      <th>15</th>\n",
       "      <td>15</td>\n",
       "      <td>1997-04</td>\n",
       "      <td>-0.942779</td>\n",
       "      <td>-0.940054</td>\n",
       "      <td>-0.945504</td>\n",
       "      <td>-0.948229</td>\n",
       "      <td>-0.948229</td>\n",
       "      <td>-0.972752</td>\n",
       "      <td>-0.991826</td>\n",
       "      <td>-0.997275</td>\n",
       "      <td>-1.000000</td>\n",
       "      <td>-0.994550</td>\n",
       "      <td>-0.948229</td>\n",
       "      <td>-0.945504</td>\n",
       "      <td>-0.956403</td>\n",
       "      <td>2</td>\n",
       "    </tr>\n",
       "    <tr>\n",
       "      <th>16</th>\n",
       "      <td>16</td>\n",
       "      <td>1997-05</td>\n",
       "      <td>-0.926431</td>\n",
       "      <td>-0.945504</td>\n",
       "      <td>-0.948229</td>\n",
       "      <td>-0.948229</td>\n",
       "      <td>-0.972752</td>\n",
       "      <td>-0.991826</td>\n",
       "      <td>-0.997275</td>\n",
       "      <td>-1.000000</td>\n",
       "      <td>-0.994550</td>\n",
       "      <td>-0.948229</td>\n",
       "      <td>-0.945504</td>\n",
       "      <td>-0.956403</td>\n",
       "      <td>-0.942779</td>\n",
       "      <td>2</td>\n",
       "    </tr>\n",
       "    <tr>\n",
       "      <th>...</th>\n",
       "      <td>...</td>\n",
       "      <td>...</td>\n",
       "      <td>...</td>\n",
       "      <td>...</td>\n",
       "      <td>...</td>\n",
       "      <td>...</td>\n",
       "      <td>...</td>\n",
       "      <td>...</td>\n",
       "      <td>...</td>\n",
       "      <td>...</td>\n",
       "      <td>...</td>\n",
       "      <td>...</td>\n",
       "      <td>...</td>\n",
       "      <td>...</td>\n",
       "      <td>...</td>\n",
       "      <td>...</td>\n",
       "    </tr>\n",
       "    <tr>\n",
       "      <th>325</th>\n",
       "      <td>325</td>\n",
       "      <td>2023-02</td>\n",
       "      <td>0.945504</td>\n",
       "      <td>0.223433</td>\n",
       "      <td>0.250681</td>\n",
       "      <td>0.362398</td>\n",
       "      <td>0.430518</td>\n",
       "      <td>0.465940</td>\n",
       "      <td>0.542234</td>\n",
       "      <td>0.599455</td>\n",
       "      <td>0.662125</td>\n",
       "      <td>0.708447</td>\n",
       "      <td>0.757493</td>\n",
       "      <td>0.787466</td>\n",
       "      <td>0.847411</td>\n",
       "      <td>54</td>\n",
       "    </tr>\n",
       "    <tr>\n",
       "      <th>326</th>\n",
       "      <td>326</td>\n",
       "      <td>2023-03</td>\n",
       "      <td>1.000000</td>\n",
       "      <td>0.250681</td>\n",
       "      <td>0.362398</td>\n",
       "      <td>0.430518</td>\n",
       "      <td>0.465940</td>\n",
       "      <td>0.542234</td>\n",
       "      <td>0.599455</td>\n",
       "      <td>0.662125</td>\n",
       "      <td>0.708447</td>\n",
       "      <td>0.757493</td>\n",
       "      <td>0.787466</td>\n",
       "      <td>0.847411</td>\n",
       "      <td>0.945504</td>\n",
       "      <td>54</td>\n",
       "    </tr>\n",
       "    <tr>\n",
       "      <th>327</th>\n",
       "      <td>327</td>\n",
       "      <td>2023-04</td>\n",
       "      <td>0.970027</td>\n",
       "      <td>0.362398</td>\n",
       "      <td>0.430518</td>\n",
       "      <td>0.465940</td>\n",
       "      <td>0.542234</td>\n",
       "      <td>0.599455</td>\n",
       "      <td>0.662125</td>\n",
       "      <td>0.708447</td>\n",
       "      <td>0.757493</td>\n",
       "      <td>0.787466</td>\n",
       "      <td>0.847411</td>\n",
       "      <td>0.945504</td>\n",
       "      <td>1.000000</td>\n",
       "      <td>54</td>\n",
       "    </tr>\n",
       "    <tr>\n",
       "      <th>328</th>\n",
       "      <td>328</td>\n",
       "      <td>2023-05</td>\n",
       "      <td>0.961853</td>\n",
       "      <td>0.430518</td>\n",
       "      <td>0.465940</td>\n",
       "      <td>0.542234</td>\n",
       "      <td>0.599455</td>\n",
       "      <td>0.662125</td>\n",
       "      <td>0.708447</td>\n",
       "      <td>0.757493</td>\n",
       "      <td>0.787466</td>\n",
       "      <td>0.847411</td>\n",
       "      <td>0.945504</td>\n",
       "      <td>1.000000</td>\n",
       "      <td>0.970027</td>\n",
       "      <td>54</td>\n",
       "    </tr>\n",
       "    <tr>\n",
       "      <th>329</th>\n",
       "      <td>329</td>\n",
       "      <td>2023-06</td>\n",
       "      <td>0.956403</td>\n",
       "      <td>0.465940</td>\n",
       "      <td>0.542234</td>\n",
       "      <td>0.599455</td>\n",
       "      <td>0.662125</td>\n",
       "      <td>0.708447</td>\n",
       "      <td>0.757493</td>\n",
       "      <td>0.787466</td>\n",
       "      <td>0.847411</td>\n",
       "      <td>0.945504</td>\n",
       "      <td>1.000000</td>\n",
       "      <td>0.970027</td>\n",
       "      <td>0.961853</td>\n",
       "      <td>54</td>\n",
       "    </tr>\n",
       "  </tbody>\n",
       "</table>\n",
       "<p>318 rows × 16 columns</p>\n",
       "</div>"
      ],
      "text/plain": [
       "     Unnamed: 0     Date  Food_Price  shift_pos_12  shift_pos_11  \\\n",
       "12           12  1997-01   -0.948229     -0.980926     -0.964578   \n",
       "13           13  1997-02   -0.945504     -0.964578     -0.948229   \n",
       "14           14  1997-03   -0.956403     -0.948229     -0.940054   \n",
       "15           15  1997-04   -0.942779     -0.940054     -0.945504   \n",
       "16           16  1997-05   -0.926431     -0.945504     -0.948229   \n",
       "..          ...      ...         ...           ...           ...   \n",
       "325         325  2023-02    0.945504      0.223433      0.250681   \n",
       "326         326  2023-03    1.000000      0.250681      0.362398   \n",
       "327         327  2023-04    0.970027      0.362398      0.430518   \n",
       "328         328  2023-05    0.961853      0.430518      0.465940   \n",
       "329         329  2023-06    0.956403      0.465940      0.542234   \n",
       "\n",
       "     shift_pos_10  shift_pos_9  shift_pos_8  shift_pos_7  shift_pos_6  \\\n",
       "12      -0.948229    -0.940054    -0.945504    -0.948229    -0.948229   \n",
       "13      -0.940054    -0.945504    -0.948229    -0.948229    -0.972752   \n",
       "14      -0.945504    -0.948229    -0.948229    -0.972752    -0.991826   \n",
       "15      -0.948229    -0.948229    -0.972752    -0.991826    -0.997275   \n",
       "16      -0.948229    -0.972752    -0.991826    -0.997275    -1.000000   \n",
       "..            ...          ...          ...          ...          ...   \n",
       "325      0.362398     0.430518     0.465940     0.542234     0.599455   \n",
       "326      0.430518     0.465940     0.542234     0.599455     0.662125   \n",
       "327      0.465940     0.542234     0.599455     0.662125     0.708447   \n",
       "328      0.542234     0.599455     0.662125     0.708447     0.757493   \n",
       "329      0.599455     0.662125     0.708447     0.757493     0.787466   \n",
       "\n",
       "     shift_pos_5  shift_pos_4  shift_pos_3  shift_pos_2  shift_pos_1  group  \n",
       "12     -0.972752    -0.991826    -0.997275    -1.000000    -0.994550      2  \n",
       "13     -0.991826    -0.997275    -1.000000    -0.994550    -0.948229      2  \n",
       "14     -0.997275    -1.000000    -0.994550    -0.948229    -0.945504      2  \n",
       "15     -1.000000    -0.994550    -0.948229    -0.945504    -0.956403      2  \n",
       "16     -0.994550    -0.948229    -0.945504    -0.956403    -0.942779      2  \n",
       "..           ...          ...          ...          ...          ...    ...  \n",
       "325     0.662125     0.708447     0.757493     0.787466     0.847411     54  \n",
       "326     0.708447     0.757493     0.787466     0.847411     0.945504     54  \n",
       "327     0.757493     0.787466     0.847411     0.945504     1.000000     54  \n",
       "328     0.787466     0.847411     0.945504     1.000000     0.970027     54  \n",
       "329     0.847411     0.945504     1.000000     0.970027     0.961853     54  \n",
       "\n",
       "[318 rows x 16 columns]"
      ]
     },
     "execution_count": 7,
     "metadata": {},
     "output_type": "execute_result"
    }
   ],
   "source": [
    "df_windows, train_cols = lead_with_pct_change(df_scaled, \"Food_Price\", range(1,13))\n",
    "df_windows['group'] = df.groupby(df.index//6, sort=False)[\"Food_Price\"].agg(['ngroup'])\n",
    "test_cols = ['Food_Price']\n",
    "df_windows = df_windows.drop(columns = [\"Air_Temperature\"])\n",
    "df_windows = df_windows.dropna()\n",
    "df_windows"
   ]
  },
  {
   "cell_type": "code",
   "execution_count": 8,
   "metadata": {},
   "outputs": [
    {
     "data": {
      "text/plain": [
       "((306, 16), (12, 16))"
      ]
     },
     "execution_count": 8,
     "metadata": {},
     "output_type": "execute_result"
    }
   ],
   "source": [
    "train_df = df_windows.iloc[:-12, :]\n",
    "test_df = df_windows.iloc[-12:, :]\n",
    "train_df.shape, test_df.shape\n",
    "\n"
   ]
  },
  {
   "cell_type": "code",
   "execution_count": 9,
   "metadata": {},
   "outputs": [
    {
     "data": {
      "text/plain": [
       "((51, 6, 12), (51, 6, 1))"
      ]
     },
     "execution_count": 9,
     "metadata": {},
     "output_type": "execute_result"
    }
   ],
   "source": [
    "X_train = np.array(list(train_df.groupby('group').apply(lambda x: x[train_cols].values))).astype(np.float32)\n",
    "y_train = np.array(list(train_df.groupby('group').apply(lambda x: x[test_cols].values))).astype(np.float32)\n",
    "X_train.shape, y_train.shape"
   ]
  },
  {
   "cell_type": "code",
   "execution_count": 11,
   "metadata": {},
   "outputs": [],
   "source": [
    "from torch.utils.data import Dataset, DataLoader\n",
    "class DS(Dataset):\n",
    "    def __init__ (self,X_train,y_train):\n",
    "        self.X_train = X_train\n",
    "        self.y_train = y_train\n",
    "\n",
    "    def __len__(self):\n",
    "        return len(self.y_train)\n",
    "    \n",
    "    def __getitem__(self, idx):\n",
    "        data = self.X_train[idx, :]\n",
    "        labels = self.y_train[idx, :]\n",
    "        return data, labels \n",
    "    \n"
   ]
  },
  {
   "cell_type": "code",
   "execution_count": 12,
   "metadata": {},
   "outputs": [],
   "source": [
    "class Model(nn.Module):\n",
    "    def __init__(self,input_size, hidden_size =100):\n",
    "        super().__init__()\n",
    "        input_size = input_size\n",
    "\n",
    "        self.lstm1 = nn.LSTM(input_size=input_size, hidden_size=hidden_size, num_layers = 1, batch_first = True, bidirectional = False)\n",
    "        self.lstm2 = nn.LSTM(hidden_size, hidden_size*2, num_layers = 1, batch_first = True, bidirectional = False) \n",
    "        self.fc = nn.Linear(hidden_size*2, 1)\n",
    "\n",
    "    def forward(self,x):\n",
    "        #print (x.shape)\n",
    "        x, _ = self.lstm1(x)\n",
    "        x, _ = self.lstm2(x)\n",
    "\n",
    "        #print x.shape\n",
    "\n",
    "        x, _ = self.fc(x)\n",
    "\n",
    "        #print x.shape\n",
    "\n",
    "        return x"
   ]
  },
  {
   "cell_type": "code",
   "execution_count": 26,
   "metadata": {},
   "outputs": [],
   "source": [
    "model = Model(input_size=len(train_cols))"
   ]
  },
  {
   "cell_type": "code",
   "execution_count": 30,
   "metadata": {},
   "outputs": [],
   "source": [
    "db = DataBunch.create(DS(X_train,y_train), valid_ds=None, bs = 8)\n"
   ]
  },
  {
   "cell_type": "code",
   "execution_count": null,
   "metadata": {},
   "outputs": [],
   "source": []
  },
  {
   "cell_type": "code",
   "execution_count": 31,
   "metadata": {},
   "outputs": [],
   "source": [
    "learn = Learner(db, model, loss_func=nn.MSELoss())\n",
    "learn.callbacks.append(ShowGraph(learn))\n",
    "learn.callbacks.append(CSVLogger(learn))"
   ]
  },
  {
   "cell_type": "code",
   "execution_count": 36,
   "metadata": {},
   "outputs": [
    {
     "data": {
      "text/html": [
       "\n",
       "<style>\n",
       "    /* Turns off some styling */\n",
       "    progress {\n",
       "        /* gets rid of default border in Firefox and Opera. */\n",
       "        border: none;\n",
       "        /* Needs to be in here for Safari polyfill so background images work as expected. */\n",
       "        background-size: auto;\n",
       "    }\n",
       "    progress:not([value]), progress:not([value])::-webkit-progress-bar {\n",
       "        background: repeating-linear-gradient(45deg, #7e7e7e, #7e7e7e 10px, #5c5c5c 10px, #5c5c5c 20px);\n",
       "    }\n",
       "    .progress-bar-interrupted, .progress-bar-interrupted::-webkit-progress-bar {\n",
       "        background: #F44336;\n",
       "    }\n",
       "</style>\n"
      ],
      "text/plain": [
       "<IPython.core.display.HTML object>"
      ]
     },
     "metadata": {},
     "output_type": "display_data"
    },
    {
     "data": {
      "text/html": [
       "\n",
       "    <div>\n",
       "      <progress value='0' class='' max='17' style='width:300px; height:20px; vertical-align: middle;'></progress>\n",
       "      0.00% [0/17 00:00&lt;?]\n",
       "    </div>\n",
       "    \n",
       "<table border=\"1\" class=\"dataframe\">\n",
       "  <thead>\n",
       "    <tr style=\"text-align: left;\">\n",
       "      <th>epoch</th>\n",
       "      <th>train_loss</th>\n",
       "      <th>valid_loss</th>\n",
       "      <th>time</th>\n",
       "    </tr>\n",
       "  </thead>\n",
       "  <tbody>\n",
       "  </tbody>\n",
       "</table><p>\n",
       "\n",
       "    <div>\n",
       "      <progress value='0' class='progress-bar-interrupted' max='6' style='width:300px; height:20px; vertical-align: middle;'></progress>\n",
       "      Interrupted\n",
       "    </div>\n",
       "    "
      ],
      "text/plain": [
       "<IPython.core.display.HTML object>"
      ]
     },
     "metadata": {},
     "output_type": "display_data"
    },
    {
     "name": "stdout",
     "output_type": "stream",
     "text": [
      "LR Finder is complete, type {learner_name}.recorder.plot() to see the graph.\n"
     ]
    },
    {
     "ename": "RuntimeError",
     "evalue": "DataLoader worker (pid(s) 20880, 9508, 19468, 1388, 9208, 3656, 5884, 13304, 6520, 20204, 8616, 21528, 21740, 21960, 22080, 22184) exited unexpectedly",
     "output_type": "error",
     "traceback": [
      "\u001b[1;31m---------------------------------------------------------------------------\u001b[0m",
      "\u001b[1;31mEmpty\u001b[0m                                     Traceback (most recent call last)",
      "File \u001b[1;32mf:\\Git\\Food-price-forecast\\venv\\Lib\\site-packages\\torch\\utils\\data\\dataloader.py:1132\u001b[0m, in \u001b[0;36m_MultiProcessingDataLoaderIter._try_get_data\u001b[1;34m(self, timeout)\u001b[0m\n\u001b[0;32m   1131\u001b[0m \u001b[39mtry\u001b[39;00m:\n\u001b[1;32m-> 1132\u001b[0m     data \u001b[39m=\u001b[39m \u001b[39mself\u001b[39;49m\u001b[39m.\u001b[39;49m_data_queue\u001b[39m.\u001b[39;49mget(timeout\u001b[39m=\u001b[39;49mtimeout)\n\u001b[0;32m   1133\u001b[0m     \u001b[39mreturn\u001b[39;00m (\u001b[39mTrue\u001b[39;00m, data)\n",
      "File \u001b[1;32m~\\AppData\\Local\\Programs\\Python\\Python311\\Lib\\multiprocessing\\queues.py:114\u001b[0m, in \u001b[0;36mQueue.get\u001b[1;34m(self, block, timeout)\u001b[0m\n\u001b[0;32m    113\u001b[0m     \u001b[39mif\u001b[39;00m \u001b[39mnot\u001b[39;00m \u001b[39mself\u001b[39m\u001b[39m.\u001b[39m_poll(timeout):\n\u001b[1;32m--> 114\u001b[0m         \u001b[39mraise\u001b[39;00m Empty\n\u001b[0;32m    115\u001b[0m \u001b[39melif\u001b[39;00m \u001b[39mnot\u001b[39;00m \u001b[39mself\u001b[39m\u001b[39m.\u001b[39m_poll():\n",
      "\u001b[1;31mEmpty\u001b[0m: ",
      "\nThe above exception was the direct cause of the following exception:\n",
      "\u001b[1;31mRuntimeError\u001b[0m                              Traceback (most recent call last)",
      "Cell \u001b[1;32mIn[36], line 1\u001b[0m\n\u001b[1;32m----> 1\u001b[0m learn\u001b[39m.\u001b[39;49mlr_find()\n\u001b[0;32m      2\u001b[0m learn\u001b[39m.\u001b[39mrecorder\u001b[39m.\u001b[39mplot()\n",
      "File \u001b[1;32mf:\\Git\\Food-price-forecast\\venv\\Lib\\site-packages\\fastai\\train.py:41\u001b[0m, in \u001b[0;36mlr_find\u001b[1;34m(learn, start_lr, end_lr, num_it, stop_div, wd)\u001b[0m\n\u001b[0;32m     39\u001b[0m cb \u001b[39m=\u001b[39m LRFinder(learn, start_lr, end_lr, num_it, stop_div)\n\u001b[0;32m     40\u001b[0m epochs \u001b[39m=\u001b[39m \u001b[39mint\u001b[39m(np\u001b[39m.\u001b[39mceil(num_it\u001b[39m/\u001b[39m\u001b[39mlen\u001b[39m(learn\u001b[39m.\u001b[39mdata\u001b[39m.\u001b[39mtrain_dl))) \u001b[39m*\u001b[39m (num_distrib() \u001b[39mor\u001b[39;00m \u001b[39m1\u001b[39m)\n\u001b[1;32m---> 41\u001b[0m learn\u001b[39m.\u001b[39;49mfit(epochs, start_lr, callbacks\u001b[39m=\u001b[39;49m[cb], wd\u001b[39m=\u001b[39;49mwd)\n",
      "File \u001b[1;32mf:\\Git\\Food-price-forecast\\venv\\Lib\\site-packages\\fastai\\basic_train.py:200\u001b[0m, in \u001b[0;36mLearner.fit\u001b[1;34m(self, epochs, lr, wd, callbacks)\u001b[0m\n\u001b[0;32m    198\u001b[0m \u001b[39melse\u001b[39;00m: \u001b[39mself\u001b[39m\u001b[39m.\u001b[39mopt\u001b[39m.\u001b[39mlr,\u001b[39mself\u001b[39m\u001b[39m.\u001b[39mopt\u001b[39m.\u001b[39mwd \u001b[39m=\u001b[39m lr,wd\n\u001b[0;32m    199\u001b[0m callbacks \u001b[39m=\u001b[39m [cb(\u001b[39mself\u001b[39m) \u001b[39mfor\u001b[39;00m cb \u001b[39min\u001b[39;00m \u001b[39mself\u001b[39m\u001b[39m.\u001b[39mcallback_fns \u001b[39m+\u001b[39m listify(defaults\u001b[39m.\u001b[39mextra_callback_fns)] \u001b[39m+\u001b[39m listify(callbacks)\n\u001b[1;32m--> 200\u001b[0m fit(epochs, \u001b[39mself\u001b[39;49m, metrics\u001b[39m=\u001b[39;49m\u001b[39mself\u001b[39;49m\u001b[39m.\u001b[39;49mmetrics, callbacks\u001b[39m=\u001b[39;49m\u001b[39mself\u001b[39;49m\u001b[39m.\u001b[39;49mcallbacks\u001b[39m+\u001b[39;49mcallbacks)\n",
      "File \u001b[1;32mf:\\Git\\Food-price-forecast\\venv\\Lib\\site-packages\\fastai\\basic_train.py:99\u001b[0m, in \u001b[0;36mfit\u001b[1;34m(epochs, learn, callbacks, metrics)\u001b[0m\n\u001b[0;32m     97\u001b[0m cb_handler\u001b[39m.\u001b[39mset_dl(learn\u001b[39m.\u001b[39mdata\u001b[39m.\u001b[39mtrain_dl)\n\u001b[0;32m     98\u001b[0m cb_handler\u001b[39m.\u001b[39mon_epoch_begin()\n\u001b[1;32m---> 99\u001b[0m \u001b[39mfor\u001b[39;00m xb,yb \u001b[39min\u001b[39;00m progress_bar(learn\u001b[39m.\u001b[39mdata\u001b[39m.\u001b[39mtrain_dl, parent\u001b[39m=\u001b[39mpbar):\n\u001b[0;32m    100\u001b[0m     xb, yb \u001b[39m=\u001b[39m cb_handler\u001b[39m.\u001b[39mon_batch_begin(xb, yb)\n\u001b[0;32m    101\u001b[0m     loss \u001b[39m=\u001b[39m loss_batch(learn\u001b[39m.\u001b[39mmodel, xb, yb, learn\u001b[39m.\u001b[39mloss_func, learn\u001b[39m.\u001b[39mopt, cb_handler)\n",
      "File \u001b[1;32mf:\\Git\\Food-price-forecast\\venv\\Lib\\site-packages\\fastprogress\\fastprogress.py:50\u001b[0m, in \u001b[0;36mProgressBar.__iter__\u001b[1;34m(self)\u001b[0m\n\u001b[0;32m     48\u001b[0m \u001b[39mexcept\u001b[39;00m \u001b[39mException\u001b[39;00m \u001b[39mas\u001b[39;00m e:\n\u001b[0;32m     49\u001b[0m     \u001b[39mself\u001b[39m\u001b[39m.\u001b[39mon_interrupt()\n\u001b[1;32m---> 50\u001b[0m     \u001b[39mraise\u001b[39;00m e\n",
      "File \u001b[1;32mf:\\Git\\Food-price-forecast\\venv\\Lib\\site-packages\\fastprogress\\fastprogress.py:41\u001b[0m, in \u001b[0;36mProgressBar.__iter__\u001b[1;34m(self)\u001b[0m\n\u001b[0;32m     39\u001b[0m \u001b[39mif\u001b[39;00m \u001b[39mself\u001b[39m\u001b[39m.\u001b[39mtotal \u001b[39m!=\u001b[39m \u001b[39m0\u001b[39m: \u001b[39mself\u001b[39m\u001b[39m.\u001b[39mupdate(\u001b[39m0\u001b[39m)\n\u001b[0;32m     40\u001b[0m \u001b[39mtry\u001b[39;00m:\n\u001b[1;32m---> 41\u001b[0m     \u001b[39mfor\u001b[39;00m i,o \u001b[39min\u001b[39;00m \u001b[39menumerate\u001b[39m(\u001b[39mself\u001b[39m\u001b[39m.\u001b[39mgen):\n\u001b[0;32m     42\u001b[0m         \u001b[39mif\u001b[39;00m \u001b[39mself\u001b[39m\u001b[39m.\u001b[39mtotal \u001b[39mand\u001b[39;00m i \u001b[39m>\u001b[39m\u001b[39m=\u001b[39m \u001b[39mself\u001b[39m\u001b[39m.\u001b[39mtotal: \u001b[39mbreak\u001b[39;00m\n\u001b[0;32m     43\u001b[0m         \u001b[39myield\u001b[39;00m o\n",
      "File \u001b[1;32mf:\\Git\\Food-price-forecast\\venv\\Lib\\site-packages\\fastai\\basic_data.py:75\u001b[0m, in \u001b[0;36mDeviceDataLoader.__iter__\u001b[1;34m(self)\u001b[0m\n\u001b[0;32m     73\u001b[0m \u001b[39mdef\u001b[39;00m \u001b[39m__iter__\u001b[39m(\u001b[39mself\u001b[39m):\n\u001b[0;32m     74\u001b[0m     \u001b[39m\"\u001b[39m\u001b[39mProcess and returns items from `DataLoader`.\u001b[39m\u001b[39m\"\u001b[39m\n\u001b[1;32m---> 75\u001b[0m     \u001b[39mfor\u001b[39;00m b \u001b[39min\u001b[39;00m \u001b[39mself\u001b[39m\u001b[39m.\u001b[39mdl: \u001b[39myield\u001b[39;00m \u001b[39mself\u001b[39m\u001b[39m.\u001b[39mproc_batch(b)\n",
      "File \u001b[1;32mf:\\Git\\Food-price-forecast\\venv\\Lib\\site-packages\\torch\\utils\\data\\dataloader.py:633\u001b[0m, in \u001b[0;36m_BaseDataLoaderIter.__next__\u001b[1;34m(self)\u001b[0m\n\u001b[0;32m    630\u001b[0m \u001b[39mif\u001b[39;00m \u001b[39mself\u001b[39m\u001b[39m.\u001b[39m_sampler_iter \u001b[39mis\u001b[39;00m \u001b[39mNone\u001b[39;00m:\n\u001b[0;32m    631\u001b[0m     \u001b[39m# TODO(https://github.com/pytorch/pytorch/issues/76750)\u001b[39;00m\n\u001b[0;32m    632\u001b[0m     \u001b[39mself\u001b[39m\u001b[39m.\u001b[39m_reset()  \u001b[39m# type: ignore[call-arg]\u001b[39;00m\n\u001b[1;32m--> 633\u001b[0m data \u001b[39m=\u001b[39m \u001b[39mself\u001b[39;49m\u001b[39m.\u001b[39;49m_next_data()\n\u001b[0;32m    634\u001b[0m \u001b[39mself\u001b[39m\u001b[39m.\u001b[39m_num_yielded \u001b[39m+\u001b[39m\u001b[39m=\u001b[39m \u001b[39m1\u001b[39m\n\u001b[0;32m    635\u001b[0m \u001b[39mif\u001b[39;00m \u001b[39mself\u001b[39m\u001b[39m.\u001b[39m_dataset_kind \u001b[39m==\u001b[39m _DatasetKind\u001b[39m.\u001b[39mIterable \u001b[39mand\u001b[39;00m \\\n\u001b[0;32m    636\u001b[0m         \u001b[39mself\u001b[39m\u001b[39m.\u001b[39m_IterableDataset_len_called \u001b[39mis\u001b[39;00m \u001b[39mnot\u001b[39;00m \u001b[39mNone\u001b[39;00m \u001b[39mand\u001b[39;00m \\\n\u001b[0;32m    637\u001b[0m         \u001b[39mself\u001b[39m\u001b[39m.\u001b[39m_num_yielded \u001b[39m>\u001b[39m \u001b[39mself\u001b[39m\u001b[39m.\u001b[39m_IterableDataset_len_called:\n",
      "File \u001b[1;32mf:\\Git\\Food-price-forecast\\venv\\Lib\\site-packages\\torch\\utils\\data\\dataloader.py:1328\u001b[0m, in \u001b[0;36m_MultiProcessingDataLoaderIter._next_data\u001b[1;34m(self)\u001b[0m\n\u001b[0;32m   1325\u001b[0m     \u001b[39mreturn\u001b[39;00m \u001b[39mself\u001b[39m\u001b[39m.\u001b[39m_process_data(data)\n\u001b[0;32m   1327\u001b[0m \u001b[39massert\u001b[39;00m \u001b[39mnot\u001b[39;00m \u001b[39mself\u001b[39m\u001b[39m.\u001b[39m_shutdown \u001b[39mand\u001b[39;00m \u001b[39mself\u001b[39m\u001b[39m.\u001b[39m_tasks_outstanding \u001b[39m>\u001b[39m \u001b[39m0\u001b[39m\n\u001b[1;32m-> 1328\u001b[0m idx, data \u001b[39m=\u001b[39m \u001b[39mself\u001b[39;49m\u001b[39m.\u001b[39;49m_get_data()\n\u001b[0;32m   1329\u001b[0m \u001b[39mself\u001b[39m\u001b[39m.\u001b[39m_tasks_outstanding \u001b[39m-\u001b[39m\u001b[39m=\u001b[39m \u001b[39m1\u001b[39m\n\u001b[0;32m   1330\u001b[0m \u001b[39mif\u001b[39;00m \u001b[39mself\u001b[39m\u001b[39m.\u001b[39m_dataset_kind \u001b[39m==\u001b[39m _DatasetKind\u001b[39m.\u001b[39mIterable:\n\u001b[0;32m   1331\u001b[0m     \u001b[39m# Check for _IterableDatasetStopIteration\u001b[39;00m\n",
      "File \u001b[1;32mf:\\Git\\Food-price-forecast\\venv\\Lib\\site-packages\\torch\\utils\\data\\dataloader.py:1294\u001b[0m, in \u001b[0;36m_MultiProcessingDataLoaderIter._get_data\u001b[1;34m(self)\u001b[0m\n\u001b[0;32m   1290\u001b[0m     \u001b[39m# In this case, `self._data_queue` is a `queue.Queue`,. But we don't\u001b[39;00m\n\u001b[0;32m   1291\u001b[0m     \u001b[39m# need to call `.task_done()` because we don't use `.join()`.\u001b[39;00m\n\u001b[0;32m   1292\u001b[0m \u001b[39melse\u001b[39;00m:\n\u001b[0;32m   1293\u001b[0m     \u001b[39mwhile\u001b[39;00m \u001b[39mTrue\u001b[39;00m:\n\u001b[1;32m-> 1294\u001b[0m         success, data \u001b[39m=\u001b[39m \u001b[39mself\u001b[39;49m\u001b[39m.\u001b[39;49m_try_get_data()\n\u001b[0;32m   1295\u001b[0m         \u001b[39mif\u001b[39;00m success:\n\u001b[0;32m   1296\u001b[0m             \u001b[39mreturn\u001b[39;00m data\n",
      "File \u001b[1;32mf:\\Git\\Food-price-forecast\\venv\\Lib\\site-packages\\torch\\utils\\data\\dataloader.py:1145\u001b[0m, in \u001b[0;36m_MultiProcessingDataLoaderIter._try_get_data\u001b[1;34m(self, timeout)\u001b[0m\n\u001b[0;32m   1143\u001b[0m \u001b[39mif\u001b[39;00m \u001b[39mlen\u001b[39m(failed_workers) \u001b[39m>\u001b[39m \u001b[39m0\u001b[39m:\n\u001b[0;32m   1144\u001b[0m     pids_str \u001b[39m=\u001b[39m \u001b[39m'\u001b[39m\u001b[39m, \u001b[39m\u001b[39m'\u001b[39m\u001b[39m.\u001b[39mjoin(\u001b[39mstr\u001b[39m(w\u001b[39m.\u001b[39mpid) \u001b[39mfor\u001b[39;00m w \u001b[39min\u001b[39;00m failed_workers)\n\u001b[1;32m-> 1145\u001b[0m     \u001b[39mraise\u001b[39;00m \u001b[39mRuntimeError\u001b[39;00m(\u001b[39m'\u001b[39m\u001b[39mDataLoader worker (pid(s) \u001b[39m\u001b[39m{}\u001b[39;00m\u001b[39m) exited unexpectedly\u001b[39m\u001b[39m'\u001b[39m\u001b[39m.\u001b[39mformat(pids_str)) \u001b[39mfrom\u001b[39;00m \u001b[39me\u001b[39;00m\n\u001b[0;32m   1146\u001b[0m \u001b[39mif\u001b[39;00m \u001b[39misinstance\u001b[39m(e, queue\u001b[39m.\u001b[39mEmpty):\n\u001b[0;32m   1147\u001b[0m     \u001b[39mreturn\u001b[39;00m (\u001b[39mFalse\u001b[39;00m, \u001b[39mNone\u001b[39;00m)\n",
      "\u001b[1;31mRuntimeError\u001b[0m: DataLoader worker (pid(s) 20880, 9508, 19468, 1388, 9208, 3656, 5884, 13304, 6520, 20204, 8616, 21528, 21740, 21960, 22080, 22184) exited unexpectedly"
     ]
    }
   ],
   "source": [
    "learn.lr_find()\n",
    "learn.recorder.plot()"
   ]
  },
  {
   "cell_type": "code",
   "execution_count": 35,
   "metadata": {},
   "outputs": [
    {
     "data": {
      "image/png": "[encoded data removed]",
      "text/plain": [
       "<Figure size 640x480 with 1 Axes>"
      ]
     },
     "metadata": {},
     "output_type": "display_data"
    }
   ],
   "source": [
    "learn.recorder.plot()"
   ]
  },
  {
   "cell_type": "code",
   "execution_count": 34,
   "metadata": {},
   "outputs": [
    {
     "data": {
      "text/html": [
       "\n",
       "<style>\n",
       "    /* Turns off some styling */\n",
       "    progress {\n",
       "        /* gets rid of default border in Firefox and Opera. */\n",
       "        border: none;\n",
       "        /* Needs to be in here for Safari polyfill so background images work as expected. */\n",
       "        background-size: auto;\n",
       "    }\n",
       "    progress:not([value]), progress:not([value])::-webkit-progress-bar {\n",
       "        background: repeating-linear-gradient(45deg, #7e7e7e, #7e7e7e 10px, #5c5c5c 10px, #5c5c5c 20px);\n",
       "    }\n",
       "    .progress-bar-interrupted, .progress-bar-interrupted::-webkit-progress-bar {\n",
       "        background: #F44336;\n",
       "    }\n",
       "</style>\n"
      ],
      "text/plain": [
       "<IPython.core.display.HTML object>"
      ]
     },
     "metadata": {},
     "output_type": "display_data"
    },
    {
     "data": {
      "text/html": [
       "\n",
       "    <div>\n",
       "      <progress value='0' class='' max='150' style='width:300px; height:20px; vertical-align: middle;'></progress>\n",
       "      0.00% [0/150 00:00&lt;?]\n",
       "    </div>\n",
       "    \n",
       "<table border=\"1\" class=\"dataframe\">\n",
       "  <thead>\n",
       "    <tr style=\"text-align: left;\">\n",
       "      <th>epoch</th>\n",
       "      <th>train_loss</th>\n",
       "      <th>valid_loss</th>\n",
       "      <th>time</th>\n",
       "    </tr>\n",
       "  </thead>\n",
       "  <tbody>\n",
       "  </tbody>\n",
       "</table><p>\n",
       "\n",
       "    <div>\n",
       "      <progress value='0' class='progress-bar-interrupted' max='6' style='width:300px; height:20px; vertical-align: middle;'></progress>\n",
       "      Interrupted\n",
       "    </div>\n",
       "    "
      ],
      "text/plain": [
       "<IPython.core.display.HTML object>"
      ]
     },
     "metadata": {},
     "output_type": "display_data"
    },
    {
     "ename": "RuntimeError",
     "evalue": "DataLoader worker (pid(s) 1192, 1452, 18872, 19880, 16388, 19500, 5216, 20552, 1056, 12836, 12924, 12724, 3636, 20512, 19028, 20348) exited unexpectedly",
     "output_type": "error",
     "traceback": [
      "\u001b[1;31m---------------------------------------------------------------------------\u001b[0m",
      "\u001b[1;31mEmpty\u001b[0m                                     Traceback (most recent call last)",
      "File \u001b[1;32mf:\\Git\\Food-price-forecast\\venv\\Lib\\site-packages\\torch\\utils\\data\\dataloader.py:1132\u001b[0m, in \u001b[0;36m_MultiProcessingDataLoaderIter._try_get_data\u001b[1;34m(self, timeout)\u001b[0m\n\u001b[0;32m   1131\u001b[0m \u001b[39mtry\u001b[39;00m:\n\u001b[1;32m-> 1132\u001b[0m     data \u001b[39m=\u001b[39m \u001b[39mself\u001b[39;49m\u001b[39m.\u001b[39;49m_data_queue\u001b[39m.\u001b[39;49mget(timeout\u001b[39m=\u001b[39;49mtimeout)\n\u001b[0;32m   1133\u001b[0m     \u001b[39mreturn\u001b[39;00m (\u001b[39mTrue\u001b[39;00m, data)\n",
      "File \u001b[1;32m~\\AppData\\Local\\Programs\\Python\\Python311\\Lib\\multiprocessing\\queues.py:114\u001b[0m, in \u001b[0;36mQueue.get\u001b[1;34m(self, block, timeout)\u001b[0m\n\u001b[0;32m    113\u001b[0m     \u001b[39mif\u001b[39;00m \u001b[39mnot\u001b[39;00m \u001b[39mself\u001b[39m\u001b[39m.\u001b[39m_poll(timeout):\n\u001b[1;32m--> 114\u001b[0m         \u001b[39mraise\u001b[39;00m Empty\n\u001b[0;32m    115\u001b[0m \u001b[39melif\u001b[39;00m \u001b[39mnot\u001b[39;00m \u001b[39mself\u001b[39m\u001b[39m.\u001b[39m_poll():\n",
      "\u001b[1;31mEmpty\u001b[0m: ",
      "\nThe above exception was the direct cause of the following exception:\n",
      "\u001b[1;31mRuntimeError\u001b[0m                              Traceback (most recent call last)",
      "Cell \u001b[1;32mIn[34], line 1\u001b[0m\n\u001b[1;32m----> 1\u001b[0m learn\u001b[39m.\u001b[39;49mfit_one_cycle(\u001b[39m150\u001b[39;49m, max_lr\u001b[39m=\u001b[39;49m\u001b[39m1e-2\u001b[39;49m)\n",
      "File \u001b[1;32mf:\\Git\\Food-price-forecast\\venv\\Lib\\site-packages\\fastai\\train.py:23\u001b[0m, in \u001b[0;36mfit_one_cycle\u001b[1;34m(learn, cyc_len, max_lr, moms, div_factor, pct_start, final_div, wd, callbacks, tot_epochs, start_epoch)\u001b[0m\n\u001b[0;32m     20\u001b[0m callbacks \u001b[39m=\u001b[39m listify(callbacks)\n\u001b[0;32m     21\u001b[0m callbacks\u001b[39m.\u001b[39mappend(OneCycleScheduler(learn, max_lr, moms\u001b[39m=\u001b[39mmoms, div_factor\u001b[39m=\u001b[39mdiv_factor, pct_start\u001b[39m=\u001b[39mpct_start,\n\u001b[0;32m     22\u001b[0m                                    final_div\u001b[39m=\u001b[39mfinal_div, tot_epochs\u001b[39m=\u001b[39mtot_epochs, start_epoch\u001b[39m=\u001b[39mstart_epoch))\n\u001b[1;32m---> 23\u001b[0m learn\u001b[39m.\u001b[39;49mfit(cyc_len, max_lr, wd\u001b[39m=\u001b[39;49mwd, callbacks\u001b[39m=\u001b[39;49mcallbacks)\n",
      "File \u001b[1;32mf:\\Git\\Food-price-forecast\\venv\\Lib\\site-packages\\fastai\\basic_train.py:200\u001b[0m, in \u001b[0;36mLearner.fit\u001b[1;34m(self, epochs, lr, wd, callbacks)\u001b[0m\n\u001b[0;32m    198\u001b[0m \u001b[39melse\u001b[39;00m: \u001b[39mself\u001b[39m\u001b[39m.\u001b[39mopt\u001b[39m.\u001b[39mlr,\u001b[39mself\u001b[39m\u001b[39m.\u001b[39mopt\u001b[39m.\u001b[39mwd \u001b[39m=\u001b[39m lr,wd\n\u001b[0;32m    199\u001b[0m callbacks \u001b[39m=\u001b[39m [cb(\u001b[39mself\u001b[39m) \u001b[39mfor\u001b[39;00m cb \u001b[39min\u001b[39;00m \u001b[39mself\u001b[39m\u001b[39m.\u001b[39mcallback_fns \u001b[39m+\u001b[39m listify(defaults\u001b[39m.\u001b[39mextra_callback_fns)] \u001b[39m+\u001b[39m listify(callbacks)\n\u001b[1;32m--> 200\u001b[0m fit(epochs, \u001b[39mself\u001b[39;49m, metrics\u001b[39m=\u001b[39;49m\u001b[39mself\u001b[39;49m\u001b[39m.\u001b[39;49mmetrics, callbacks\u001b[39m=\u001b[39;49m\u001b[39mself\u001b[39;49m\u001b[39m.\u001b[39;49mcallbacks\u001b[39m+\u001b[39;49mcallbacks)\n",
      "File \u001b[1;32mf:\\Git\\Food-price-forecast\\venv\\Lib\\site-packages\\fastai\\basic_train.py:99\u001b[0m, in \u001b[0;36mfit\u001b[1;34m(epochs, learn, callbacks, metrics)\u001b[0m\n\u001b[0;32m     97\u001b[0m cb_handler\u001b[39m.\u001b[39mset_dl(learn\u001b[39m.\u001b[39mdata\u001b[39m.\u001b[39mtrain_dl)\n\u001b[0;32m     98\u001b[0m cb_handler\u001b[39m.\u001b[39mon_epoch_begin()\n\u001b[1;32m---> 99\u001b[0m \u001b[39mfor\u001b[39;00m xb,yb \u001b[39min\u001b[39;00m progress_bar(learn\u001b[39m.\u001b[39mdata\u001b[39m.\u001b[39mtrain_dl, parent\u001b[39m=\u001b[39mpbar):\n\u001b[0;32m    100\u001b[0m     xb, yb \u001b[39m=\u001b[39m cb_handler\u001b[39m.\u001b[39mon_batch_begin(xb, yb)\n\u001b[0;32m    101\u001b[0m     loss \u001b[39m=\u001b[39m loss_batch(learn\u001b[39m.\u001b[39mmodel, xb, yb, learn\u001b[39m.\u001b[39mloss_func, learn\u001b[39m.\u001b[39mopt, cb_handler)\n",
      "File \u001b[1;32mf:\\Git\\Food-price-forecast\\venv\\Lib\\site-packages\\fastprogress\\fastprogress.py:50\u001b[0m, in \u001b[0;36mProgressBar.__iter__\u001b[1;34m(self)\u001b[0m\n\u001b[0;32m     48\u001b[0m \u001b[39mexcept\u001b[39;00m \u001b[39mException\u001b[39;00m \u001b[39mas\u001b[39;00m e:\n\u001b[0;32m     49\u001b[0m     \u001b[39mself\u001b[39m\u001b[39m.\u001b[39mon_interrupt()\n\u001b[1;32m---> 50\u001b[0m     \u001b[39mraise\u001b[39;00m e\n",
      "File \u001b[1;32mf:\\Git\\Food-price-forecast\\venv\\Lib\\site-packages\\fastprogress\\fastprogress.py:41\u001b[0m, in \u001b[0;36mProgressBar.__iter__\u001b[1;34m(self)\u001b[0m\n\u001b[0;32m     39\u001b[0m \u001b[39mif\u001b[39;00m \u001b[39mself\u001b[39m\u001b[39m.\u001b[39mtotal \u001b[39m!=\u001b[39m \u001b[39m0\u001b[39m: \u001b[39mself\u001b[39m\u001b[39m.\u001b[39mupdate(\u001b[39m0\u001b[39m)\n\u001b[0;32m     40\u001b[0m \u001b[39mtry\u001b[39;00m:\n\u001b[1;32m---> 41\u001b[0m     \u001b[39mfor\u001b[39;00m i,o \u001b[39min\u001b[39;00m \u001b[39menumerate\u001b[39m(\u001b[39mself\u001b[39m\u001b[39m.\u001b[39mgen):\n\u001b[0;32m     42\u001b[0m         \u001b[39mif\u001b[39;00m \u001b[39mself\u001b[39m\u001b[39m.\u001b[39mtotal \u001b[39mand\u001b[39;00m i \u001b[39m>\u001b[39m\u001b[39m=\u001b[39m \u001b[39mself\u001b[39m\u001b[39m.\u001b[39mtotal: \u001b[39mbreak\u001b[39;00m\n\u001b[0;32m     43\u001b[0m         \u001b[39myield\u001b[39;00m o\n",
      "File \u001b[1;32mf:\\Git\\Food-price-forecast\\venv\\Lib\\site-packages\\fastai\\basic_data.py:75\u001b[0m, in \u001b[0;36mDeviceDataLoader.__iter__\u001b[1;34m(self)\u001b[0m\n\u001b[0;32m     73\u001b[0m \u001b[39mdef\u001b[39;00m \u001b[39m__iter__\u001b[39m(\u001b[39mself\u001b[39m):\n\u001b[0;32m     74\u001b[0m     \u001b[39m\"\u001b[39m\u001b[39mProcess and returns items from `DataLoader`.\u001b[39m\u001b[39m\"\u001b[39m\n\u001b[1;32m---> 75\u001b[0m     \u001b[39mfor\u001b[39;00m b \u001b[39min\u001b[39;00m \u001b[39mself\u001b[39m\u001b[39m.\u001b[39mdl: \u001b[39myield\u001b[39;00m \u001b[39mself\u001b[39m\u001b[39m.\u001b[39mproc_batch(b)\n",
      "File \u001b[1;32mf:\\Git\\Food-price-forecast\\venv\\Lib\\site-packages\\torch\\utils\\data\\dataloader.py:633\u001b[0m, in \u001b[0;36m_BaseDataLoaderIter.__next__\u001b[1;34m(self)\u001b[0m\n\u001b[0;32m    630\u001b[0m \u001b[39mif\u001b[39;00m \u001b[39mself\u001b[39m\u001b[39m.\u001b[39m_sampler_iter \u001b[39mis\u001b[39;00m \u001b[39mNone\u001b[39;00m:\n\u001b[0;32m    631\u001b[0m     \u001b[39m# TODO(https://github.com/pytorch/pytorch/issues/76750)\u001b[39;00m\n\u001b[0;32m    632\u001b[0m     \u001b[39mself\u001b[39m\u001b[39m.\u001b[39m_reset()  \u001b[39m# type: ignore[call-arg]\u001b[39;00m\n\u001b[1;32m--> 633\u001b[0m data \u001b[39m=\u001b[39m \u001b[39mself\u001b[39;49m\u001b[39m.\u001b[39;49m_next_data()\n\u001b[0;32m    634\u001b[0m \u001b[39mself\u001b[39m\u001b[39m.\u001b[39m_num_yielded \u001b[39m+\u001b[39m\u001b[39m=\u001b[39m \u001b[39m1\u001b[39m\n\u001b[0;32m    635\u001b[0m \u001b[39mif\u001b[39;00m \u001b[39mself\u001b[39m\u001b[39m.\u001b[39m_dataset_kind \u001b[39m==\u001b[39m _DatasetKind\u001b[39m.\u001b[39mIterable \u001b[39mand\u001b[39;00m \\\n\u001b[0;32m    636\u001b[0m         \u001b[39mself\u001b[39m\u001b[39m.\u001b[39m_IterableDataset_len_called \u001b[39mis\u001b[39;00m \u001b[39mnot\u001b[39;00m \u001b[39mNone\u001b[39;00m \u001b[39mand\u001b[39;00m \\\n\u001b[0;32m    637\u001b[0m         \u001b[39mself\u001b[39m\u001b[39m.\u001b[39m_num_yielded \u001b[39m>\u001b[39m \u001b[39mself\u001b[39m\u001b[39m.\u001b[39m_IterableDataset_len_called:\n",
      "File \u001b[1;32mf:\\Git\\Food-price-forecast\\venv\\Lib\\site-packages\\torch\\utils\\data\\dataloader.py:1328\u001b[0m, in \u001b[0;36m_MultiProcessingDataLoaderIter._next_data\u001b[1;34m(self)\u001b[0m\n\u001b[0;32m   1325\u001b[0m     \u001b[39mreturn\u001b[39;00m \u001b[39mself\u001b[39m\u001b[39m.\u001b[39m_process_data(data)\n\u001b[0;32m   1327\u001b[0m \u001b[39massert\u001b[39;00m \u001b[39mnot\u001b[39;00m \u001b[39mself\u001b[39m\u001b[39m.\u001b[39m_shutdown \u001b[39mand\u001b[39;00m \u001b[39mself\u001b[39m\u001b[39m.\u001b[39m_tasks_outstanding \u001b[39m>\u001b[39m \u001b[39m0\u001b[39m\n\u001b[1;32m-> 1328\u001b[0m idx, data \u001b[39m=\u001b[39m \u001b[39mself\u001b[39;49m\u001b[39m.\u001b[39;49m_get_data()\n\u001b[0;32m   1329\u001b[0m \u001b[39mself\u001b[39m\u001b[39m.\u001b[39m_tasks_outstanding \u001b[39m-\u001b[39m\u001b[39m=\u001b[39m \u001b[39m1\u001b[39m\n\u001b[0;32m   1330\u001b[0m \u001b[39mif\u001b[39;00m \u001b[39mself\u001b[39m\u001b[39m.\u001b[39m_dataset_kind \u001b[39m==\u001b[39m _DatasetKind\u001b[39m.\u001b[39mIterable:\n\u001b[0;32m   1331\u001b[0m     \u001b[39m# Check for _IterableDatasetStopIteration\u001b[39;00m\n",
      "File \u001b[1;32mf:\\Git\\Food-price-forecast\\venv\\Lib\\site-packages\\torch\\utils\\data\\dataloader.py:1294\u001b[0m, in \u001b[0;36m_MultiProcessingDataLoaderIter._get_data\u001b[1;34m(self)\u001b[0m\n\u001b[0;32m   1290\u001b[0m     \u001b[39m# In this case, `self._data_queue` is a `queue.Queue`,. But we don't\u001b[39;00m\n\u001b[0;32m   1291\u001b[0m     \u001b[39m# need to call `.task_done()` because we don't use `.join()`.\u001b[39;00m\n\u001b[0;32m   1292\u001b[0m \u001b[39melse\u001b[39;00m:\n\u001b[0;32m   1293\u001b[0m     \u001b[39mwhile\u001b[39;00m \u001b[39mTrue\u001b[39;00m:\n\u001b[1;32m-> 1294\u001b[0m         success, data \u001b[39m=\u001b[39m \u001b[39mself\u001b[39;49m\u001b[39m.\u001b[39;49m_try_get_data()\n\u001b[0;32m   1295\u001b[0m         \u001b[39mif\u001b[39;00m success:\n\u001b[0;32m   1296\u001b[0m             \u001b[39mreturn\u001b[39;00m data\n",
      "File \u001b[1;32mf:\\Git\\Food-price-forecast\\venv\\Lib\\site-packages\\torch\\utils\\data\\dataloader.py:1145\u001b[0m, in \u001b[0;36m_MultiProcessingDataLoaderIter._try_get_data\u001b[1;34m(self, timeout)\u001b[0m\n\u001b[0;32m   1143\u001b[0m \u001b[39mif\u001b[39;00m \u001b[39mlen\u001b[39m(failed_workers) \u001b[39m>\u001b[39m \u001b[39m0\u001b[39m:\n\u001b[0;32m   1144\u001b[0m     pids_str \u001b[39m=\u001b[39m \u001b[39m'\u001b[39m\u001b[39m, \u001b[39m\u001b[39m'\u001b[39m\u001b[39m.\u001b[39mjoin(\u001b[39mstr\u001b[39m(w\u001b[39m.\u001b[39mpid) \u001b[39mfor\u001b[39;00m w \u001b[39min\u001b[39;00m failed_workers)\n\u001b[1;32m-> 1145\u001b[0m     \u001b[39mraise\u001b[39;00m \u001b[39mRuntimeError\u001b[39;00m(\u001b[39m'\u001b[39m\u001b[39mDataLoader worker (pid(s) \u001b[39m\u001b[39m{}\u001b[39;00m\u001b[39m) exited unexpectedly\u001b[39m\u001b[39m'\u001b[39m\u001b[39m.\u001b[39mformat(pids_str)) \u001b[39mfrom\u001b[39;00m \u001b[39me\u001b[39;00m\n\u001b[0;32m   1146\u001b[0m \u001b[39mif\u001b[39;00m \u001b[39misinstance\u001b[39m(e, queue\u001b[39m.\u001b[39mEmpty):\n\u001b[0;32m   1147\u001b[0m     \u001b[39mreturn\u001b[39;00m (\u001b[39mFalse\u001b[39;00m, \u001b[39mNone\u001b[39;00m)\n",
      "\u001b[1;31mRuntimeError\u001b[0m: DataLoader worker (pid(s) 1192, 1452, 18872, 19880, 16388, 19500, 5216, 20552, 1056, 12836, 12924, 12724, 3636, 20512, 19028, 20348) exited unexpectedly"
     ]
    }
   ],
   "source": [
    "learn.fit_one_cycle(150, max_lr=1e-2)\n"
   ]
  }
 ],
 "metadata": {
  "kernelspec": {
   "display_name": "venv",
   "language": "python",
   "name": "python3"
  },
  "language_info": {
   "codemirror_mode": {
    "name": "ipython",
    "version": 3
   },
   "file_extension": ".py",
   "mimetype": "text/x-python",
   "name": "python",
   "nbconvert_exporter": "python",
   "pygments_lexer": "ipython3",
   "version": "3.11.4"
  },
  "orig_nbformat": 4
 },
 "nbformat": 4,
 "nbformat_minor": 2
}
