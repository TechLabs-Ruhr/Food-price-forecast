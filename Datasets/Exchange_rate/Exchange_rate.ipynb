{
 "cells": [
  {
   "cell_type": "markdown",
   "id": "21f65794",
   "metadata": {},
   "source": [
    "## Formatting the data (exchange rate)"
   ]
  },
  {
   "cell_type": "code",
   "execution_count": 1,
   "id": "f5ac3e96",
   "metadata": {},
   "outputs": [],
   "source": [
    "import pandas as pd"
   ]
  },
  {
   "cell_type": "markdown",
   "id": "7d8b0853",
   "metadata": {},
   "source": [
    "### Import data in .csv format and delete unnecessary data"
   ]
  },
  {
   "cell_type": "code",
   "execution_count": 2,
   "id": "24b0a814",
   "metadata": {},
   "outputs": [],
   "source": [
    "df = pd.read_csv('ert_bil_eur_m_page_linear.csv')\n",
    "# source: https://ec.europa.eu/eurostat/databrowser/view/ERT_BIL_EUR_M__custom_7179516/default/table?lang=en"
   ]
  },
  {
   "cell_type": "code",
   "execution_count": 3,
   "id": "25c39b3d",
   "metadata": {},
   "outputs": [
    {
     "data": {
      "text/html": [
       "<div>\n",
       "<style scoped>\n",
       "    .dataframe tbody tr th:only-of-type {\n",
       "        vertical-align: middle;\n",
       "    }\n",
       "\n",
       "    .dataframe tbody tr th {\n",
       "        vertical-align: top;\n",
       "    }\n",
       "\n",
       "    .dataframe thead th {\n",
       "        text-align: right;\n",
       "    }\n",
       "</style>\n",
       "<table border=\"1\" class=\"dataframe\">\n",
       "  <thead>\n",
       "    <tr style=\"text-align: right;\">\n",
       "      <th></th>\n",
       "      <th>DATAFLOW</th>\n",
       "      <th>LAST UPDATE</th>\n",
       "      <th>freq</th>\n",
       "      <th>statinfo</th>\n",
       "      <th>unit</th>\n",
       "      <th>currency</th>\n",
       "      <th>TIME_PERIOD</th>\n",
       "      <th>OBS_VALUE</th>\n",
       "      <th>OBS_FLAG</th>\n",
       "    </tr>\n",
       "  </thead>\n",
       "  <tbody>\n",
       "    <tr>\n",
       "      <th>0</th>\n",
       "      <td>ESTAT:ERT_BIL_EUR_M(1.0)</td>\n",
       "      <td>04/08/23 11:00:00</td>\n",
       "      <td>M</td>\n",
       "      <td>AVG</td>\n",
       "      <td>NAC</td>\n",
       "      <td>USD</td>\n",
       "      <td>1996-01</td>\n",
       "      <td>1.2918</td>\n",
       "      <td>NaN</td>\n",
       "    </tr>\n",
       "    <tr>\n",
       "      <th>1</th>\n",
       "      <td>ESTAT:ERT_BIL_EUR_M(1.0)</td>\n",
       "      <td>04/08/23 11:00:00</td>\n",
       "      <td>M</td>\n",
       "      <td>AVG</td>\n",
       "      <td>NAC</td>\n",
       "      <td>USD</td>\n",
       "      <td>1996-02</td>\n",
       "      <td>1.2886</td>\n",
       "      <td>NaN</td>\n",
       "    </tr>\n",
       "    <tr>\n",
       "      <th>2</th>\n",
       "      <td>ESTAT:ERT_BIL_EUR_M(1.0)</td>\n",
       "      <td>04/08/23 11:00:00</td>\n",
       "      <td>M</td>\n",
       "      <td>AVG</td>\n",
       "      <td>NAC</td>\n",
       "      <td>USD</td>\n",
       "      <td>1996-03</td>\n",
       "      <td>1.2813</td>\n",
       "      <td>NaN</td>\n",
       "    </tr>\n",
       "    <tr>\n",
       "      <th>3</th>\n",
       "      <td>ESTAT:ERT_BIL_EUR_M(1.0)</td>\n",
       "      <td>04/08/23 11:00:00</td>\n",
       "      <td>M</td>\n",
       "      <td>AVG</td>\n",
       "      <td>NAC</td>\n",
       "      <td>USD</td>\n",
       "      <td>1996-04</td>\n",
       "      <td>1.2639</td>\n",
       "      <td>NaN</td>\n",
       "    </tr>\n",
       "    <tr>\n",
       "      <th>4</th>\n",
       "      <td>ESTAT:ERT_BIL_EUR_M(1.0)</td>\n",
       "      <td>04/08/23 11:00:00</td>\n",
       "      <td>M</td>\n",
       "      <td>AVG</td>\n",
       "      <td>NAC</td>\n",
       "      <td>USD</td>\n",
       "      <td>1996-05</td>\n",
       "      <td>1.2467</td>\n",
       "      <td>NaN</td>\n",
       "    </tr>\n",
       "  </tbody>\n",
       "</table>\n",
       "</div>"
      ],
      "text/plain": [
       "                   DATAFLOW        LAST UPDATE freq statinfo unit currency  \\\n",
       "0  ESTAT:ERT_BIL_EUR_M(1.0)  04/08/23 11:00:00    M      AVG  NAC      USD   \n",
       "1  ESTAT:ERT_BIL_EUR_M(1.0)  04/08/23 11:00:00    M      AVG  NAC      USD   \n",
       "2  ESTAT:ERT_BIL_EUR_M(1.0)  04/08/23 11:00:00    M      AVG  NAC      USD   \n",
       "3  ESTAT:ERT_BIL_EUR_M(1.0)  04/08/23 11:00:00    M      AVG  NAC      USD   \n",
       "4  ESTAT:ERT_BIL_EUR_M(1.0)  04/08/23 11:00:00    M      AVG  NAC      USD   \n",
       "\n",
       "  TIME_PERIOD  OBS_VALUE  OBS_FLAG  \n",
       "0     1996-01     1.2918       NaN  \n",
       "1     1996-02     1.2886       NaN  \n",
       "2     1996-03     1.2813       NaN  \n",
       "3     1996-04     1.2639       NaN  \n",
       "4     1996-05     1.2467       NaN  "
      ]
     },
     "execution_count": 3,
     "metadata": {},
     "output_type": "execute_result"
    }
   ],
   "source": [
    "df.head()"
   ]
  },
  {
   "cell_type": "code",
   "execution_count": 4,
   "id": "48e604d4",
   "metadata": {},
   "outputs": [],
   "source": [
    "columns_to_delete = list(range(0,6))\n",
    "df = df.drop(df.columns[columns_to_delete], axis=1)\n",
    "df.drop('OBS_FLAG',axis=1,inplace=True)"
   ]
  },
  {
   "cell_type": "code",
   "execution_count": 5,
   "id": "aedab46c",
   "metadata": {},
   "outputs": [
    {
     "data": {
      "text/html": [
       "<div>\n",
       "<style scoped>\n",
       "    .dataframe tbody tr th:only-of-type {\n",
       "        vertical-align: middle;\n",
       "    }\n",
       "\n",
       "    .dataframe tbody tr th {\n",
       "        vertical-align: top;\n",
       "    }\n",
       "\n",
       "    .dataframe thead th {\n",
       "        text-align: right;\n",
       "    }\n",
       "</style>\n",
       "<table border=\"1\" class=\"dataframe\">\n",
       "  <thead>\n",
       "    <tr style=\"text-align: right;\">\n",
       "      <th></th>\n",
       "      <th>TIME_PERIOD</th>\n",
       "      <th>OBS_VALUE</th>\n",
       "    </tr>\n",
       "  </thead>\n",
       "  <tbody>\n",
       "    <tr>\n",
       "      <th>0</th>\n",
       "      <td>1996-01</td>\n",
       "      <td>1.2918</td>\n",
       "    </tr>\n",
       "    <tr>\n",
       "      <th>1</th>\n",
       "      <td>1996-02</td>\n",
       "      <td>1.2886</td>\n",
       "    </tr>\n",
       "    <tr>\n",
       "      <th>2</th>\n",
       "      <td>1996-03</td>\n",
       "      <td>1.2813</td>\n",
       "    </tr>\n",
       "    <tr>\n",
       "      <th>3</th>\n",
       "      <td>1996-04</td>\n",
       "      <td>1.2639</td>\n",
       "    </tr>\n",
       "    <tr>\n",
       "      <th>4</th>\n",
       "      <td>1996-05</td>\n",
       "      <td>1.2467</td>\n",
       "    </tr>\n",
       "  </tbody>\n",
       "</table>\n",
       "</div>"
      ],
      "text/plain": [
       "  TIME_PERIOD  OBS_VALUE\n",
       "0     1996-01     1.2918\n",
       "1     1996-02     1.2886\n",
       "2     1996-03     1.2813\n",
       "3     1996-04     1.2639\n",
       "4     1996-05     1.2467"
      ]
     },
     "execution_count": 5,
     "metadata": {},
     "output_type": "execute_result"
    }
   ],
   "source": [
    "df.head()"
   ]
  },
  {
   "cell_type": "markdown",
   "id": "5db197a4",
   "metadata": {},
   "source": [
    "### Adjustment of column names"
   ]
  },
  {
   "cell_type": "code",
   "execution_count": 6,
   "id": "1bdeb6c0",
   "metadata": {},
   "outputs": [],
   "source": [
    "df.rename(columns={'TIME_PERIOD': 'Time'}, inplace=True)\n",
    "df.rename(columns={'OBS_VALUE': 'Exchange_rate ($/€)'}, inplace=True)"
   ]
  },
  {
   "cell_type": "code",
   "execution_count": 7,
   "id": "438c385d",
   "metadata": {},
   "outputs": [
    {
     "data": {
      "text/html": [
       "<div>\n",
       "<style scoped>\n",
       "    .dataframe tbody tr th:only-of-type {\n",
       "        vertical-align: middle;\n",
       "    }\n",
       "\n",
       "    .dataframe tbody tr th {\n",
       "        vertical-align: top;\n",
       "    }\n",
       "\n",
       "    .dataframe thead th {\n",
       "        text-align: right;\n",
       "    }\n",
       "</style>\n",
       "<table border=\"1\" class=\"dataframe\">\n",
       "  <thead>\n",
       "    <tr style=\"text-align: right;\">\n",
       "      <th></th>\n",
       "      <th>Time</th>\n",
       "      <th>Exchange_rate ($/€)</th>\n",
       "    </tr>\n",
       "  </thead>\n",
       "  <tbody>\n",
       "    <tr>\n",
       "      <th>0</th>\n",
       "      <td>1996-01</td>\n",
       "      <td>1.2918</td>\n",
       "    </tr>\n",
       "  </tbody>\n",
       "</table>\n",
       "</div>"
      ],
      "text/plain": [
       "      Time  Exchange_rate ($/€)\n",
       "0  1996-01               1.2918"
      ]
     },
     "execution_count": 7,
     "metadata": {},
     "output_type": "execute_result"
    }
   ],
   "source": [
    "df.head(1)"
   ]
  },
  {
   "cell_type": "markdown",
   "id": "eadbbce0",
   "metadata": {},
   "source": [
    "### Saving the data"
   ]
  },
  {
   "cell_type": "code",
   "execution_count": 8,
   "id": "77a0e796",
   "metadata": {},
   "outputs": [],
   "source": [
    "df.to_csv('C:/Users/Jakob/Desktop/Dataset/exchange_rate.csv')"
   ]
  },
  {
   "cell_type": "code",
   "execution_count": 9,
   "id": "df1814d8",
   "metadata": {},
   "outputs": [
    {
     "data": {
      "text/html": [
       "<div>\n",
       "<style scoped>\n",
       "    .dataframe tbody tr th:only-of-type {\n",
       "        vertical-align: middle;\n",
       "    }\n",
       "\n",
       "    .dataframe tbody tr th {\n",
       "        vertical-align: top;\n",
       "    }\n",
       "\n",
       "    .dataframe thead th {\n",
       "        text-align: right;\n",
       "    }\n",
       "</style>\n",
       "<table border=\"1\" class=\"dataframe\">\n",
       "  <thead>\n",
       "    <tr style=\"text-align: right;\">\n",
       "      <th></th>\n",
       "      <th>Time</th>\n",
       "      <th>Exchange_rate ($/€)</th>\n",
       "    </tr>\n",
       "  </thead>\n",
       "  <tbody>\n",
       "    <tr>\n",
       "      <th>0</th>\n",
       "      <td>1996-01</td>\n",
       "      <td>1.2918</td>\n",
       "    </tr>\n",
       "    <tr>\n",
       "      <th>1</th>\n",
       "      <td>1996-02</td>\n",
       "      <td>1.2886</td>\n",
       "    </tr>\n",
       "    <tr>\n",
       "      <th>2</th>\n",
       "      <td>1996-03</td>\n",
       "      <td>1.2813</td>\n",
       "    </tr>\n",
       "    <tr>\n",
       "      <th>3</th>\n",
       "      <td>1996-04</td>\n",
       "      <td>1.2639</td>\n",
       "    </tr>\n",
       "    <tr>\n",
       "      <th>4</th>\n",
       "      <td>1996-05</td>\n",
       "      <td>1.2467</td>\n",
       "    </tr>\n",
       "  </tbody>\n",
       "</table>\n",
       "</div>"
      ],
      "text/plain": [
       "      Time  Exchange_rate ($/€)\n",
       "0  1996-01               1.2918\n",
       "1  1996-02               1.2886\n",
       "2  1996-03               1.2813\n",
       "3  1996-04               1.2639\n",
       "4  1996-05               1.2467"
      ]
     },
     "execution_count": 9,
     "metadata": {},
     "output_type": "execute_result"
    }
   ],
   "source": [
    "df.head()"
   ]
  },
  {
   "cell_type": "code",
   "execution_count": null,
   "id": "4474bfa3",
   "metadata": {},
   "outputs": [],
   "source": []
  }
 ],
 "metadata": {
  "kernelspec": {
   "display_name": "Python 3 (ipykernel)",
   "language": "python",
   "name": "python3"
  },
  "language_info": {
   "codemirror_mode": {
    "name": "ipython",
    "version": 3
   },
   "file_extension": ".py",
   "mimetype": "text/x-python",
   "name": "python",
   "nbconvert_exporter": "python",
   "pygments_lexer": "ipython3",
   "version": "3.11.3"
  }
 },
 "nbformat": 4,
 "nbformat_minor": 5
}
