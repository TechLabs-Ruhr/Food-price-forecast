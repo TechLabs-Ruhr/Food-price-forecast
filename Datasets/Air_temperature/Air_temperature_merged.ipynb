{
 "cells": [
  {
   "cell_type": "code",
   "execution_count": 1,
   "id": "a9bc8922",
   "metadata": {},
   "outputs": [],
   "source": [
    "import pandas as pd\n",
    "from os import listdir"
   ]
  },
  {
   "cell_type": "code",
   "execution_count": 2,
   "id": "862ab808",
   "metadata": {},
   "outputs": [],
   "source": [
    "def find_csv_filenames( path_to_dir, suffix=\"_air_temperature.csv\" ):\n",
    "    filenames = listdir(path_to_dir)\n",
    "    return [ filename for filename in filenames if filename.endswith( suffix ) ]"
   ]
  },
  {
   "cell_type": "code",
   "execution_count": 3,
   "id": "e0492b89",
   "metadata": {},
   "outputs": [],
   "source": [
    "file_list = []\n",
    "filenames = find_csv_filenames('C:/Users/Jakob/Desktop/Dataset/Air_temperature')\n",
    "for name in filenames:\n",
    "    file_list.append(name)"
   ]
  },
  {
   "cell_type": "code",
   "execution_count": 4,
   "id": "b05f3e00",
   "metadata": {},
   "outputs": [],
   "source": [
    "df1 = pd.read_csv(file_list[0], index_col=[0])\n",
    "df2 = pd.read_csv(file_list[1], index_col=[0])\n",
    "df3 = pd.read_csv(file_list[2], index_col=[0])\n",
    "df4 = pd.read_csv(file_list[3], index_col=[0])\n",
    "df5 = pd.read_csv(file_list[4], index_col=[0])\n",
    "df6 = pd.read_csv(file_list[5], index_col=[0])\n",
    "df7 = pd.read_csv(file_list[6], index_col=[0])\n",
    "df8 = pd.read_csv(file_list[7], index_col=[0])\n",
    "df9 = pd.read_csv(file_list[8], index_col=[0])\n",
    "df10 = pd.read_csv(file_list[9], index_col=[0])\n",
    "df11 = pd.read_csv(file_list[10], index_col=[0])\n",
    "df12 = pd.read_csv(file_list[11], index_col=[0])"
   ]
  },
  {
   "cell_type": "code",
   "execution_count": 5,
   "id": "3ff161c1",
   "metadata": {},
   "outputs": [],
   "source": [
    "list = [\"TIME\", 'Air_Temperature']\n",
    "df = df1.merge(df2, on=list, how='outer')\n",
    "df = df.merge(df3, on=list, how='outer')\n",
    "df = df.merge(df4, on=list, how='outer')\n",
    "df = df.merge(df5, on=list, how='outer')\n",
    "df = df.merge(df6, on=list, how='outer')\n",
    "df = df.merge(df7, on=list, how='outer')\n",
    "df = df.merge(df8, on=list, how='outer')\n",
    "df = df.merge(df9, on=list, how='outer')\n",
    "df = df.merge(df10, on=list, how='outer')\n",
    "df = df.merge(df11, on=list, how='outer')\n",
    "df = df.merge(df12, on=list, how='outer')"
   ]
  },
  {
   "cell_type": "code",
   "execution_count": 7,
   "id": "a60d5cad",
   "metadata": {},
   "outputs": [
    {
     "data": {
      "text/html": [
       "<div>\n",
       "<style scoped>\n",
       "    .dataframe tbody tr th:only-of-type {\n",
       "        vertical-align: middle;\n",
       "    }\n",
       "\n",
       "    .dataframe tbody tr th {\n",
       "        vertical-align: top;\n",
       "    }\n",
       "\n",
       "    .dataframe thead th {\n",
       "        text-align: right;\n",
       "    }\n",
       "</style>\n",
       "<table border=\"1\" class=\"dataframe\">\n",
       "  <thead>\n",
       "    <tr style=\"text-align: right;\">\n",
       "      <th></th>\n",
       "      <th>TIME</th>\n",
       "      <th>Air_Temperature</th>\n",
       "    </tr>\n",
       "  </thead>\n",
       "  <tbody>\n",
       "    <tr>\n",
       "      <th>0</th>\n",
       "      <td>1996-04</td>\n",
       "      <td>8.40</td>\n",
       "    </tr>\n",
       "    <tr>\n",
       "      <th>1</th>\n",
       "      <td>1997-04</td>\n",
       "      <td>6.36</td>\n",
       "    </tr>\n",
       "    <tr>\n",
       "      <th>2</th>\n",
       "      <td>1998-04</td>\n",
       "      <td>8.85</td>\n",
       "    </tr>\n",
       "    <tr>\n",
       "      <th>3</th>\n",
       "      <td>1999-04</td>\n",
       "      <td>8.90</td>\n",
       "    </tr>\n",
       "    <tr>\n",
       "      <th>4</th>\n",
       "      <td>2000-04</td>\n",
       "      <td>10.15</td>\n",
       "    </tr>\n",
       "  </tbody>\n",
       "</table>\n",
       "</div>"
      ],
      "text/plain": [
       "      TIME  Air_Temperature\n",
       "0  1996-04             8.40\n",
       "1  1997-04             6.36\n",
       "2  1998-04             8.85\n",
       "3  1999-04             8.90\n",
       "4  2000-04            10.15"
      ]
     },
     "execution_count": 7,
     "metadata": {},
     "output_type": "execute_result"
    }
   ],
   "source": [
    "df.head()"
   ]
  },
  {
   "cell_type": "code",
   "execution_count": 10,
   "id": "8a04ef76",
   "metadata": {},
   "outputs": [],
   "source": [
    "df = df.sort_values(by=['TIME'], ignore_index=True)"
   ]
  },
  {
   "cell_type": "code",
   "execution_count": 11,
   "id": "81afefab",
   "metadata": {},
   "outputs": [
    {
     "data": {
      "text/html": [
       "<div>\n",
       "<style scoped>\n",
       "    .dataframe tbody tr th:only-of-type {\n",
       "        vertical-align: middle;\n",
       "    }\n",
       "\n",
       "    .dataframe tbody tr th {\n",
       "        vertical-align: top;\n",
       "    }\n",
       "\n",
       "    .dataframe thead th {\n",
       "        text-align: right;\n",
       "    }\n",
       "</style>\n",
       "<table border=\"1\" class=\"dataframe\">\n",
       "  <thead>\n",
       "    <tr style=\"text-align: right;\">\n",
       "      <th></th>\n",
       "      <th>TIME</th>\n",
       "      <th>Air_Temperature</th>\n",
       "    </tr>\n",
       "  </thead>\n",
       "  <tbody>\n",
       "    <tr>\n",
       "      <th>0</th>\n",
       "      <td>1996-01</td>\n",
       "      <td>-2.82</td>\n",
       "    </tr>\n",
       "    <tr>\n",
       "      <th>1</th>\n",
       "      <td>1996-02</td>\n",
       "      <td>-2.18</td>\n",
       "    </tr>\n",
       "    <tr>\n",
       "      <th>2</th>\n",
       "      <td>1996-03</td>\n",
       "      <td>1.00</td>\n",
       "    </tr>\n",
       "    <tr>\n",
       "      <th>3</th>\n",
       "      <td>1996-04</td>\n",
       "      <td>8.40</td>\n",
       "    </tr>\n",
       "    <tr>\n",
       "      <th>4</th>\n",
       "      <td>1996-05</td>\n",
       "      <td>11.15</td>\n",
       "    </tr>\n",
       "  </tbody>\n",
       "</table>\n",
       "</div>"
      ],
      "text/plain": [
       "      TIME  Air_Temperature\n",
       "0  1996-01            -2.82\n",
       "1  1996-02            -2.18\n",
       "2  1996-03             1.00\n",
       "3  1996-04             8.40\n",
       "4  1996-05            11.15"
      ]
     },
     "execution_count": 11,
     "metadata": {},
     "output_type": "execute_result"
    }
   ],
   "source": [
    "df.head()"
   ]
  },
  {
   "cell_type": "code",
   "execution_count": 12,
   "id": "399054cb",
   "metadata": {},
   "outputs": [],
   "source": [
    "df.to_csv('air_temperature.csv')"
   ]
  },
  {
   "cell_type": "code",
   "execution_count": null,
   "id": "317588d5",
   "metadata": {},
   "outputs": [],
   "source": []
  }
 ],
 "metadata": {
  "kernelspec": {
   "display_name": "Python 3 (ipykernel)",
   "language": "python",
   "name": "python3"
  },
  "language_info": {
   "codemirror_mode": {
    "name": "ipython",
    "version": 3
   },
   "file_extension": ".py",
   "mimetype": "text/x-python",
   "name": "python",
   "nbconvert_exporter": "python",
   "pygments_lexer": "ipython3",
   "version": "3.11.3"
  }
 },
 "nbformat": 4,
 "nbformat_minor": 5
}
