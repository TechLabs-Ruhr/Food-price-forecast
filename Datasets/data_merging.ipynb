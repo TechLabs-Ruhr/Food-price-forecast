{
 "cells": [
  {
   "cell_type": "markdown",
   "id": "99753262",
   "metadata": {},
   "source": [
    "## Merging the data"
   ]
  },
  {
   "cell_type": "code",
   "execution_count": 1,
   "id": "045ae310",
   "metadata": {},
   "outputs": [],
   "source": [
    "import pandas as pd\n",
    "from os import listdir"
   ]
  },
  {
   "cell_type": "markdown",
   "id": "62c0da6c",
   "metadata": {},
   "source": [
    "### Import data in .csv format and merging"
   ]
  },
  {
   "cell_type": "code",
   "execution_count": 2,
   "id": "9182595f",
   "metadata": {},
   "outputs": [],
   "source": [
    "def find_csv_filenames( path_to_dir, suffix=\".csv\" ):\n",
    "    filenames = listdir(path_to_dir)\n",
    "    return [ filename for filename in filenames if filename.endswith( suffix ) ]"
   ]
  },
  {
   "cell_type": "code",
   "execution_count": 3,
   "id": "7ab80a85",
   "metadata": {},
   "outputs": [
    {
     "name": "stdout",
     "output_type": "stream",
     "text": [
      "air_temperature_merged.csv\n",
      "data_food_price.csv\n",
      "data_merging.csv\n",
      "electricity_prices_merged.csv\n",
      "prc_hicp_midx_page_linear.csv\n",
      "precipitation_merged.csv\n"
     ]
    }
   ],
   "source": [
    "file_list = []\n",
    "filenames = find_csv_filenames('C:/Users/Jakob/Desktop/Dataset/')\n",
    "for name in filenames:\n",
    "    file_list.append(name)\n",
    "    print(name)"
   ]
  },
  {
   "cell_type": "code",
   "execution_count": 4,
   "id": "7c44d00c",
   "metadata": {},
   "outputs": [],
   "source": [
    "df1 = pd.read_csv(file_list[1], index_col=[0])\n",
    "df2 = pd.read_csv(file_list[0], index_col=[0])\n",
    "df3 = pd.read_csv(file_list[3], index_col=[0])\n",
    "df4 = pd.read_csv(file_list[5], index_col=[0])"
   ]
  },
  {
   "cell_type": "code",
   "execution_count": 5,
   "id": "2148824e",
   "metadata": {},
   "outputs": [],
   "source": [
    "list = ['Time']\n",
    "df = df1.merge(df2, on=list, how='outer')\n",
    "df = df.merge(df3, on=list, how='outer')\n",
    "df = df.merge(df4, on=list, how='outer')"
   ]
  },
  {
   "cell_type": "code",
   "execution_count": 6,
   "id": "2147a6bf",
   "metadata": {},
   "outputs": [
    {
     "data": {
      "text/html": [
       "<div>\n",
       "<style scoped>\n",
       "    .dataframe tbody tr th:only-of-type {\n",
       "        vertical-align: middle;\n",
       "    }\n",
       "\n",
       "    .dataframe tbody tr th {\n",
       "        vertical-align: top;\n",
       "    }\n",
       "\n",
       "    .dataframe thead th {\n",
       "        text-align: right;\n",
       "    }\n",
       "</style>\n",
       "<table border=\"1\" class=\"dataframe\">\n",
       "  <thead>\n",
       "    <tr style=\"text-align: right;\">\n",
       "      <th></th>\n",
       "      <th>Time</th>\n",
       "      <th>Food_Price</th>\n",
       "      <th>Air_Temperature (°C)</th>\n",
       "      <th>€/kWh</th>\n",
       "      <th>Precipitation (l/m²)</th>\n",
       "    </tr>\n",
       "  </thead>\n",
       "  <tbody>\n",
       "    <tr>\n",
       "      <th>0</th>\n",
       "      <td>1996-01</td>\n",
       "      <td>74.9</td>\n",
       "      <td>-2.82</td>\n",
       "      <td>NaN</td>\n",
       "      <td>7.0</td>\n",
       "    </tr>\n",
       "    <tr>\n",
       "      <th>1</th>\n",
       "      <td>1996-02</td>\n",
       "      <td>75.5</td>\n",
       "      <td>-2.18</td>\n",
       "      <td>NaN</td>\n",
       "      <td>48.6</td>\n",
       "    </tr>\n",
       "    <tr>\n",
       "      <th>2</th>\n",
       "      <td>1996-03</td>\n",
       "      <td>76.1</td>\n",
       "      <td>1.00</td>\n",
       "      <td>NaN</td>\n",
       "      <td>23.3</td>\n",
       "    </tr>\n",
       "    <tr>\n",
       "      <th>3</th>\n",
       "      <td>1996-04</td>\n",
       "      <td>76.4</td>\n",
       "      <td>8.40</td>\n",
       "      <td>NaN</td>\n",
       "      <td>23.1</td>\n",
       "    </tr>\n",
       "    <tr>\n",
       "      <th>4</th>\n",
       "      <td>1996-05</td>\n",
       "      <td>76.2</td>\n",
       "      <td>11.15</td>\n",
       "      <td>NaN</td>\n",
       "      <td>91.4</td>\n",
       "    </tr>\n",
       "  </tbody>\n",
       "</table>\n",
       "</div>"
      ],
      "text/plain": [
       "      Time  Food_Price  Air_Temperature (°C)  €/kWh  Precipitation (l/m²)\n",
       "0  1996-01        74.9                 -2.82    NaN                   7.0\n",
       "1  1996-02        75.5                 -2.18    NaN                  48.6\n",
       "2  1996-03        76.1                  1.00    NaN                  23.3\n",
       "3  1996-04        76.4                  8.40    NaN                  23.1\n",
       "4  1996-05        76.2                 11.15    NaN                  91.4"
      ]
     },
     "execution_count": 6,
     "metadata": {},
     "output_type": "execute_result"
    }
   ],
   "source": [
    "df.head()"
   ]
  },
  {
   "cell_type": "code",
   "execution_count": 7,
   "id": "36f67547",
   "metadata": {},
   "outputs": [],
   "source": [
    "df.rename(columns={'Time': 'Date'}, inplace=True)"
   ]
  },
  {
   "cell_type": "code",
   "execution_count": 8,
   "id": "9b9fbed0",
   "metadata": {},
   "outputs": [
    {
     "data": {
      "text/html": [
       "<div>\n",
       "<style scoped>\n",
       "    .dataframe tbody tr th:only-of-type {\n",
       "        vertical-align: middle;\n",
       "    }\n",
       "\n",
       "    .dataframe tbody tr th {\n",
       "        vertical-align: top;\n",
       "    }\n",
       "\n",
       "    .dataframe thead th {\n",
       "        text-align: right;\n",
       "    }\n",
       "</style>\n",
       "<table border=\"1\" class=\"dataframe\">\n",
       "  <thead>\n",
       "    <tr style=\"text-align: right;\">\n",
       "      <th></th>\n",
       "      <th>Date</th>\n",
       "      <th>Food_Price</th>\n",
       "      <th>Air_Temperature (°C)</th>\n",
       "      <th>€/kWh</th>\n",
       "      <th>Precipitation (l/m²)</th>\n",
       "    </tr>\n",
       "  </thead>\n",
       "  <tbody>\n",
       "    <tr>\n",
       "      <th>0</th>\n",
       "      <td>1996-01</td>\n",
       "      <td>74.9</td>\n",
       "      <td>-2.82</td>\n",
       "      <td>NaN</td>\n",
       "      <td>7.0</td>\n",
       "    </tr>\n",
       "    <tr>\n",
       "      <th>1</th>\n",
       "      <td>1996-02</td>\n",
       "      <td>75.5</td>\n",
       "      <td>-2.18</td>\n",
       "      <td>NaN</td>\n",
       "      <td>48.6</td>\n",
       "    </tr>\n",
       "    <tr>\n",
       "      <th>2</th>\n",
       "      <td>1996-03</td>\n",
       "      <td>76.1</td>\n",
       "      <td>1.00</td>\n",
       "      <td>NaN</td>\n",
       "      <td>23.3</td>\n",
       "    </tr>\n",
       "    <tr>\n",
       "      <th>3</th>\n",
       "      <td>1996-04</td>\n",
       "      <td>76.4</td>\n",
       "      <td>8.40</td>\n",
       "      <td>NaN</td>\n",
       "      <td>23.1</td>\n",
       "    </tr>\n",
       "    <tr>\n",
       "      <th>4</th>\n",
       "      <td>1996-05</td>\n",
       "      <td>76.2</td>\n",
       "      <td>11.15</td>\n",
       "      <td>NaN</td>\n",
       "      <td>91.4</td>\n",
       "    </tr>\n",
       "  </tbody>\n",
       "</table>\n",
       "</div>"
      ],
      "text/plain": [
       "      Date  Food_Price  Air_Temperature (°C)  €/kWh  Precipitation (l/m²)\n",
       "0  1996-01        74.9                 -2.82    NaN                   7.0\n",
       "1  1996-02        75.5                 -2.18    NaN                  48.6\n",
       "2  1996-03        76.1                  1.00    NaN                  23.3\n",
       "3  1996-04        76.4                  8.40    NaN                  23.1\n",
       "4  1996-05        76.2                 11.15    NaN                  91.4"
      ]
     },
     "execution_count": 8,
     "metadata": {},
     "output_type": "execute_result"
    }
   ],
   "source": [
    "df.head()"
   ]
  },
  {
   "cell_type": "markdown",
   "id": "6fb811fc",
   "metadata": {},
   "source": [
    "### Saving the data"
   ]
  },
  {
   "cell_type": "code",
   "execution_count": 9,
   "id": "527ba120",
   "metadata": {},
   "outputs": [],
   "source": [
    "df.to_csv('data_merging.csv')"
   ]
  },
  {
   "cell_type": "code",
   "execution_count": null,
   "id": "23362d33",
   "metadata": {},
   "outputs": [],
   "source": []
  }
 ],
 "metadata": {
  "kernelspec": {
   "display_name": "Python 3 (ipykernel)",
   "language": "python",
   "name": "python3"
  },
  "language_info": {
   "codemirror_mode": {
    "name": "ipython",
    "version": 3
   },
   "file_extension": ".py",
   "mimetype": "text/x-python",
   "name": "python",
   "nbconvert_exporter": "python",
   "pygments_lexer": "ipython3",
   "version": "3.11.3"
  }
 },
 "nbformat": 4,
 "nbformat_minor": 5
}
