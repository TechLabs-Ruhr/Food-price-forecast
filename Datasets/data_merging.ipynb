{
 "cells": [
  {
   "cell_type": "markdown",
   "id": "99753262",
   "metadata": {},
   "source": [
    "## Merging the data"
   ]
  },
  {
   "cell_type": "code",
   "execution_count": 1,
   "id": "045ae310",
   "metadata": {},
   "outputs": [],
   "source": [
    "import pandas as pd\n",
    "from os import listdir"
   ]
  },
  {
   "cell_type": "markdown",
   "id": "62c0da6c",
   "metadata": {},
   "source": [
    "### Import data in .csv format and merging"
   ]
  },
  {
   "cell_type": "code",
   "execution_count": 2,
   "id": "9182595f",
   "metadata": {},
   "outputs": [],
   "source": [
    "def find_csv_filenames( path_to_dir, suffix=\".csv\" ):\n",
    "    filenames = listdir(path_to_dir)\n",
    "    return [ filename for filename in filenames if filename.endswith( suffix ) ]"
   ]
  },
  {
   "cell_type": "code",
   "execution_count": 3,
   "id": "7ab80a85",
   "metadata": {},
   "outputs": [
    {
     "name": "stdout",
     "output_type": "stream",
     "text": [
      "air_temperature_merged.csv\n",
      "brent_oil_price.csv\n",
      "data_food_price.csv\n",
      "data_merging.csv\n",
      "electricity_prices_merged.csv\n",
      "exchange_rate.csv\n",
      "prc_hicp_midx_page_linear.csv\n",
      "precipitation_merged.csv\n"
     ]
    }
   ],
   "source": [
    "file_list = []\n",
    "filenames = find_csv_filenames('C:/Users/Jakob/Desktop/Dataset/')\n",
    "for name in filenames:\n",
    "    file_list.append(name)\n",
    "    print(name)"
   ]
  },
  {
   "cell_type": "code",
   "execution_count": 4,
   "id": "7c44d00c",
   "metadata": {},
   "outputs": [],
   "source": [
    "df1 = pd.read_csv(file_list[0], index_col=[0])\n",
    "df2 = pd.read_csv(file_list[1], index_col=[0])\n",
    "df3 = pd.read_csv(file_list[2], index_col=[0])\n",
    "df4 = pd.read_csv(file_list[4], index_col=[0])\n",
    "df5 = pd.read_csv(file_list[5], index_col=[0])\n",
    "df6 = pd.read_csv(file_list[7], index_col=[0])"
   ]
  },
  {
   "cell_type": "code",
   "execution_count": 5,
   "id": "2148824e",
   "metadata": {},
   "outputs": [],
   "source": [
    "list = ['Time']\n",
    "df = df1.merge(df2, on=list, how='outer')\n",
    "df = df.merge(df3, on=list, how='outer')\n",
    "df = df.merge(df4, on=list, how='outer')\n",
    "df = df.merge(df5, on=list, how='outer')\n",
    "df = df.merge(df6, on=list, how='outer')"
   ]
  },
  {
   "cell_type": "code",
   "execution_count": 6,
   "id": "2147a6bf",
   "metadata": {},
   "outputs": [
    {
     "data": {
      "text/html": [
       "<div>\n",
       "<style scoped>\n",
       "    .dataframe tbody tr th:only-of-type {\n",
       "        vertical-align: middle;\n",
       "    }\n",
       "\n",
       "    .dataframe tbody tr th {\n",
       "        vertical-align: top;\n",
       "    }\n",
       "\n",
       "    .dataframe thead th {\n",
       "        text-align: right;\n",
       "    }\n",
       "</style>\n",
       "<table border=\"1\" class=\"dataframe\">\n",
       "  <thead>\n",
       "    <tr style=\"text-align: right;\">\n",
       "      <th></th>\n",
       "      <th>Time</th>\n",
       "      <th>Air_Temperature (°C)</th>\n",
       "      <th>Oil_price (USD per gallon)</th>\n",
       "      <th>Food_Price</th>\n",
       "      <th>€/kWh</th>\n",
       "      <th>Exchange_rate ($/€)</th>\n",
       "      <th>Precipitation (l/m²)</th>\n",
       "    </tr>\n",
       "  </thead>\n",
       "  <tbody>\n",
       "    <tr>\n",
       "      <th>0</th>\n",
       "      <td>1996-01</td>\n",
       "      <td>-2.82</td>\n",
       "      <td>16.52</td>\n",
       "      <td>74.9</td>\n",
       "      <td>NaN</td>\n",
       "      <td>1.2918</td>\n",
       "      <td>7.0</td>\n",
       "    </tr>\n",
       "    <tr>\n",
       "      <th>1</th>\n",
       "      <td>1996-02</td>\n",
       "      <td>-2.18</td>\n",
       "      <td>17.76</td>\n",
       "      <td>75.5</td>\n",
       "      <td>NaN</td>\n",
       "      <td>1.2886</td>\n",
       "      <td>48.6</td>\n",
       "    </tr>\n",
       "    <tr>\n",
       "      <th>2</th>\n",
       "      <td>1996-03</td>\n",
       "      <td>1.00</td>\n",
       "      <td>19.41</td>\n",
       "      <td>76.1</td>\n",
       "      <td>NaN</td>\n",
       "      <td>1.2813</td>\n",
       "      <td>23.3</td>\n",
       "    </tr>\n",
       "    <tr>\n",
       "      <th>3</th>\n",
       "      <td>1996-04</td>\n",
       "      <td>8.40</td>\n",
       "      <td>19.02</td>\n",
       "      <td>76.4</td>\n",
       "      <td>NaN</td>\n",
       "      <td>1.2639</td>\n",
       "      <td>23.1</td>\n",
       "    </tr>\n",
       "    <tr>\n",
       "      <th>4</th>\n",
       "      <td>1996-05</td>\n",
       "      <td>11.15</td>\n",
       "      <td>17.80</td>\n",
       "      <td>76.2</td>\n",
       "      <td>NaN</td>\n",
       "      <td>1.2467</td>\n",
       "      <td>91.4</td>\n",
       "    </tr>\n",
       "  </tbody>\n",
       "</table>\n",
       "</div>"
      ],
      "text/plain": [
       "      Time  Air_Temperature (°C)  Oil_price (USD per gallon)  Food_Price  \\\n",
       "0  1996-01                 -2.82                       16.52        74.9   \n",
       "1  1996-02                 -2.18                       17.76        75.5   \n",
       "2  1996-03                  1.00                       19.41        76.1   \n",
       "3  1996-04                  8.40                       19.02        76.4   \n",
       "4  1996-05                 11.15                       17.80        76.2   \n",
       "\n",
       "   €/kWh  Exchange_rate ($/€)  Precipitation (l/m²)  \n",
       "0    NaN               1.2918                   7.0  \n",
       "1    NaN               1.2886                  48.6  \n",
       "2    NaN               1.2813                  23.3  \n",
       "3    NaN               1.2639                  23.1  \n",
       "4    NaN               1.2467                  91.4  "
      ]
     },
     "execution_count": 6,
     "metadata": {},
     "output_type": "execute_result"
    }
   ],
   "source": [
    "df.head()"
   ]
  },
  {
   "cell_type": "code",
   "execution_count": 7,
   "id": "36f67547",
   "metadata": {},
   "outputs": [],
   "source": [
    "df.rename(columns={'Time': 'Date'}, inplace=True)\n",
    "new_columns_order = ['Date', 'Food_Price', 'Oil_price (USD per gallon)', '€/kWh', 'Exchange_rate ($/€)', 'Air_Temperature (°C)', 'Precipitation (l/m²)']\n",
    "df = df[new_columns_order]"
   ]
  },
  {
   "cell_type": "code",
   "execution_count": 8,
   "id": "9b9fbed0",
   "metadata": {},
   "outputs": [
    {
     "data": {
      "text/html": [
       "<div>\n",
       "<style scoped>\n",
       "    .dataframe tbody tr th:only-of-type {\n",
       "        vertical-align: middle;\n",
       "    }\n",
       "\n",
       "    .dataframe tbody tr th {\n",
       "        vertical-align: top;\n",
       "    }\n",
       "\n",
       "    .dataframe thead th {\n",
       "        text-align: right;\n",
       "    }\n",
       "</style>\n",
       "<table border=\"1\" class=\"dataframe\">\n",
       "  <thead>\n",
       "    <tr style=\"text-align: right;\">\n",
       "      <th></th>\n",
       "      <th>Date</th>\n",
       "      <th>Food_Price</th>\n",
       "      <th>Oil_price (USD per gallon)</th>\n",
       "      <th>€/kWh</th>\n",
       "      <th>Exchange_rate ($/€)</th>\n",
       "      <th>Air_Temperature (°C)</th>\n",
       "      <th>Precipitation (l/m²)</th>\n",
       "    </tr>\n",
       "  </thead>\n",
       "  <tbody>\n",
       "    <tr>\n",
       "      <th>0</th>\n",
       "      <td>1996-01</td>\n",
       "      <td>74.9</td>\n",
       "      <td>16.52</td>\n",
       "      <td>NaN</td>\n",
       "      <td>1.2918</td>\n",
       "      <td>-2.82</td>\n",
       "      <td>7.0</td>\n",
       "    </tr>\n",
       "    <tr>\n",
       "      <th>1</th>\n",
       "      <td>1996-02</td>\n",
       "      <td>75.5</td>\n",
       "      <td>17.76</td>\n",
       "      <td>NaN</td>\n",
       "      <td>1.2886</td>\n",
       "      <td>-2.18</td>\n",
       "      <td>48.6</td>\n",
       "    </tr>\n",
       "    <tr>\n",
       "      <th>2</th>\n",
       "      <td>1996-03</td>\n",
       "      <td>76.1</td>\n",
       "      <td>19.41</td>\n",
       "      <td>NaN</td>\n",
       "      <td>1.2813</td>\n",
       "      <td>1.00</td>\n",
       "      <td>23.3</td>\n",
       "    </tr>\n",
       "    <tr>\n",
       "      <th>3</th>\n",
       "      <td>1996-04</td>\n",
       "      <td>76.4</td>\n",
       "      <td>19.02</td>\n",
       "      <td>NaN</td>\n",
       "      <td>1.2639</td>\n",
       "      <td>8.40</td>\n",
       "      <td>23.1</td>\n",
       "    </tr>\n",
       "    <tr>\n",
       "      <th>4</th>\n",
       "      <td>1996-05</td>\n",
       "      <td>76.2</td>\n",
       "      <td>17.80</td>\n",
       "      <td>NaN</td>\n",
       "      <td>1.2467</td>\n",
       "      <td>11.15</td>\n",
       "      <td>91.4</td>\n",
       "    </tr>\n",
       "  </tbody>\n",
       "</table>\n",
       "</div>"
      ],
      "text/plain": [
       "      Date  Food_Price  Oil_price (USD per gallon)  €/kWh  \\\n",
       "0  1996-01        74.9                       16.52    NaN   \n",
       "1  1996-02        75.5                       17.76    NaN   \n",
       "2  1996-03        76.1                       19.41    NaN   \n",
       "3  1996-04        76.4                       19.02    NaN   \n",
       "4  1996-05        76.2                       17.80    NaN   \n",
       "\n",
       "   Exchange_rate ($/€)  Air_Temperature (°C)  Precipitation (l/m²)  \n",
       "0               1.2918                 -2.82                   7.0  \n",
       "1               1.2886                 -2.18                  48.6  \n",
       "2               1.2813                  1.00                  23.3  \n",
       "3               1.2639                  8.40                  23.1  \n",
       "4               1.2467                 11.15                  91.4  "
      ]
     },
     "execution_count": 8,
     "metadata": {},
     "output_type": "execute_result"
    }
   ],
   "source": [
    "df.head()"
   ]
  },
  {
   "cell_type": "markdown",
   "id": "6fb811fc",
   "metadata": {},
   "source": [
    "### Saving the data"
   ]
  },
  {
   "cell_type": "code",
   "execution_count": 9,
   "id": "527ba120",
   "metadata": {},
   "outputs": [],
   "source": [
    "df.to_csv('data_merging.csv')"
   ]
  },
  {
   "cell_type": "code",
   "execution_count": null,
   "id": "23362d33",
   "metadata": {},
   "outputs": [],
   "source": []
  }
 ],
 "metadata": {
  "kernelspec": {
   "display_name": "Python 3 (ipykernel)",
   "language": "python",
   "name": "python3"
  },
  "language_info": {
   "codemirror_mode": {
    "name": "ipython",
    "version": 3
   },
   "file_extension": ".py",
   "mimetype": "text/x-python",
   "name": "python",
   "nbconvert_exporter": "python",
   "pygments_lexer": "ipython3",
   "version": "3.11.3"
  }
 },
 "nbformat": 4,
 "nbformat_minor": 5
}
