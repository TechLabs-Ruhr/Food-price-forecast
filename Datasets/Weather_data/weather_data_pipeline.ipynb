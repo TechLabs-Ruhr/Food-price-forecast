{
 "cells": [
  {
   "cell_type": "markdown",
   "id": "20e28c87",
   "metadata": {},
   "source": [
    "## Pipeline for the weather data (temperature and precipitation)"
   ]
  },
  {
   "cell_type": "markdown",
   "id": "8bdb2149",
   "metadata": {},
   "source": [
    "### Import data in .csv format (temperature)"
   ]
  },
  {
   "cell_type": "code",
   "execution_count": 1,
   "id": "67dd8a69",
   "metadata": {},
   "outputs": [],
   "source": [
    "import pandas as pd\n",
    "temp1 = pd.read_csv('C:/Users/Jakob/Desktop/Dataset/Air_temperature/January.txt', sep=\";\", header=1)\n",
    "temp2 = pd.read_csv('C:/Users/Jakob/Desktop/Dataset/Air_temperature/February.txt', sep=\";\", header=1)\n",
    "temp3 = pd.read_csv('C:/Users/Jakob/Desktop/Dataset/Air_temperature/March.txt', sep=\";\", header=1)\n",
    "temp4 = pd.read_csv('C:/Users/Jakob/Desktop/Dataset/Air_temperature/April.txt', sep=\";\", header=1)\n",
    "temp5 = pd.read_csv('C:/Users/Jakob/Desktop/Dataset/Air_temperature/May.txt', sep=\";\", header=1)\n",
    "temp6 = pd.read_csv('C:/Users/Jakob/Desktop/Dataset/Air_temperature/June.txt', sep=\";\", header=1)\n",
    "temp7 = pd.read_csv('C:/Users/Jakob/Desktop/Dataset/Air_temperature/July.txt', sep=\";\", header=1)\n",
    "temp8 = pd.read_csv('C:/Users/Jakob/Desktop/Dataset/Air_temperature/August.txt', sep=\";\", header=1)\n",
    "temp9 = pd.read_csv('C:/Users/Jakob/Desktop/Dataset/Air_temperature/September.txt', sep=\";\", header=1)\n",
    "temp10 = pd.read_csv('C:/Users/Jakob/Desktop/Dataset/Air_temperature/October.txt', sep=\";\", header=1)\n",
    "temp11 = pd.read_csv('C:/Users/Jakob/Desktop/Dataset/Air_temperature/November.txt', sep=\";\", header=1)\n",
    "temp12 = pd.read_csv('C:/Users/Jakob/Desktop/Dataset/Air_temperature/December.txt', sep=\";\", header=1)"
   ]
  },
  {
   "cell_type": "markdown",
   "id": "16e97219",
   "metadata": {},
   "source": [
    "#### source: https://opendata.dwd.de/climate_environment/CDC/regional_averages_DE/monthly/air_temperature_mean/"
   ]
  },
  {
   "cell_type": "markdown",
   "id": "e2804d46",
   "metadata": {},
   "source": [
    "### Import data in .csv format (precipitation)"
   ]
  },
  {
   "cell_type": "code",
   "execution_count": 2,
   "id": "7694ce37",
   "metadata": {},
   "outputs": [],
   "source": [
    "pre1 = pd.read_csv('C:/Users/Jakob/Desktop/Dataset/Precipitation/January.txt', sep=\";\", header=1)\n",
    "pre2 = pd.read_csv('C:/Users/Jakob/Desktop/Dataset/Precipitation/February.txt', sep=\";\", header=1)\n",
    "pre3 = pd.read_csv('C:/Users/Jakob/Desktop/Dataset/Precipitation/March.txt', sep=\";\", header=1)\n",
    "pre4 = pd.read_csv('C:/Users/Jakob/Desktop/Dataset/Precipitation/April.txt', sep=\";\", header=1)\n",
    "pre5 = pd.read_csv('C:/Users/Jakob/Desktop/Dataset/Precipitation/May.txt', sep=\";\", header=1)\n",
    "pre6 = pd.read_csv('C:/Users/Jakob/Desktop/Dataset/Precipitation/June.txt', sep=\";\", header=1)\n",
    "pre7 = pd.read_csv('C:/Users/Jakob/Desktop/Dataset/Precipitation/July.txt', sep=\";\", header=1)\n",
    "pre8 = pd.read_csv('C:/Users/Jakob/Desktop/Dataset/Precipitation/August.txt', sep=\";\", header=1)\n",
    "pre9 = pd.read_csv('C:/Users/Jakob/Desktop/Dataset/Precipitation/September.txt', sep=\";\", header=1)\n",
    "pre10 = pd.read_csv('C:/Users/Jakob/Desktop/Dataset/Precipitation/October.txt', sep=\";\", header=1)\n",
    "pre11 = pd.read_csv('C:/Users/Jakob/Desktop/Dataset/Precipitation/November.txt', sep=\";\", header=1)\n",
    "pre12 = pd.read_csv('C:/Users/Jakob/Desktop/Dataset/Precipitation/December.txt', sep=\";\", header=1)"
   ]
  },
  {
   "cell_type": "markdown",
   "id": "99c6c835",
   "metadata": {},
   "source": [
    "#### source: https://opendata.dwd.de/climate_environment/CDC/regional_averages_DE/monthly/precipitation/"
   ]
  },
  {
   "cell_type": "markdown",
   "id": "f475010d",
   "metadata": {},
   "source": [
    "#### Preprocessing Pipeline:\n",
    "\n",
    "* Drop data before 1996\n",
    "* Create a new column consisting of the year and month (format: YYYY-MM)\n",
    "* Rename the Column \"Deutschland\" to \"Temperature (°C)\" or to \"Precipitation (l/m²)\"\n",
    "* Delete unnecassary columns\n",
    "* Change the order"
   ]
  },
  {
   "cell_type": "markdown",
   "id": "9b7bb3fe",
   "metadata": {},
   "source": [
    "### Setting up the estimators for the pipeline"
   ]
  },
  {
   "cell_type": "code",
   "execution_count": 3,
   "id": "c160eee3",
   "metadata": {},
   "outputs": [],
   "source": [
    "from sklearn.base import BaseEstimator, TransformerMixin\n",
    "\n",
    "class DataDropper(BaseEstimator, TransformerMixin):\n",
    "    \n",
    "    def fit(self, X, y=None):\n",
    "        return self\n",
    "    \n",
    "    def transform(self, X):\n",
    "        X = X.drop(X[X[\"Jahr\"]<1996].index)\n",
    "        X = X.reset_index(drop=True)\n",
    "        return X\n",
    "    \n",
    "    \n",
    "class ColumnCreater(BaseEstimator, TransformerMixin):\n",
    "\n",
    "    def fit(self, X, y=None):\n",
    "        return self\n",
    "    \n",
    "    def transform(self, X):\n",
    "        if \"Date\" not in X.columns:\n",
    "            X[\"Date\"] = \"\"\n",
    "\n",
    "        for index, row in X.iterrows():\n",
    "            if row[\"Monat\"] < 10:\n",
    "                X.at[index, \"Date\"] = str(row[\"Jahr\"]) + \"-0\" + str(row[\"Monat\"])\n",
    "            else:\n",
    "                X.at[index, \"Date\"] = str(row[\"Jahr\"]) + \"-\" + str(row[\"Monat\"])    \n",
    "        return X\n",
    "  \n",
    "    \n",
    "class NameChangerT(BaseEstimator, TransformerMixin):\n",
    "    \n",
    "    def fit(self, X, y=None):\n",
    "        return self\n",
    "    \n",
    "    def transform(self, X):\n",
    "        X.rename(columns = {\"Deutschland\":\"Temperature (°C)\"}, inplace=True)\n",
    "        return X\n",
    "\n",
    "    \n",
    "class NameChangerP(BaseEstimator, TransformerMixin):\n",
    "    \n",
    "    def fit(self, X, y=None):\n",
    "        return self\n",
    "    \n",
    "    def transform(self, X):\n",
    "        X.rename(columns = {\"Deutschland\":\"Precipitation (l/m²)\"}, inplace=True)\n",
    "        return X\n",
    "\n",
    "    \n",
    "class ColumnDropper(BaseEstimator, TransformerMixin):\n",
    "\n",
    "    def fit(self, X, y=None):\n",
    "        return self\n",
    "    \n",
    "    def transform(self, X):\n",
    "        columns_to_delete = list(range(0,18))\n",
    "        return X.drop(X.columns[columns_to_delete], axis=1)\n",
    "    \n",
    "\n",
    "class OrderChangerT(BaseEstimator, TransformerMixin):\n",
    "\n",
    "    def fit(self, X, y=None):\n",
    "        return self\n",
    "    \n",
    "    def transform(self, X):\n",
    "        new_columns_order = [\"Date\", \"Temperature (°C)\"]\n",
    "        return X[new_columns_order]\n",
    "\n",
    "    \n",
    "class OrderChangerP(BaseEstimator, TransformerMixin):\n",
    "\n",
    "    def fit(self, X, y=None):\n",
    "        return self\n",
    "    \n",
    "    def transform(self, X):\n",
    "        new_columns_order = [\"Date\", \"Precipitation (l/m²)\"]\n",
    "        return X[new_columns_order]"
   ]
  },
  {
   "cell_type": "markdown",
   "id": "eb3c196d",
   "metadata": {},
   "source": [
    "### Setting up the pipeline"
   ]
  },
  {
   "cell_type": "code",
   "execution_count": 4,
   "id": "659ea6cd",
   "metadata": {},
   "outputs": [],
   "source": [
    "from sklearn.pipeline import Pipeline\n",
    "\n",
    "tpipe = Pipeline([\n",
    "    (\"ddropper\", DataDropper()),\n",
    "    (\"creater\", ColumnCreater()),\n",
    "    (\"nchangert\", NameChangerT()),\n",
    "    (\"cdropper\", ColumnDropper()),\n",
    "    (\"ochangert\", OrderChangerT())\n",
    "])\n",
    "\n",
    "\n",
    "ppipe = Pipeline([\n",
    "    (\"ddropper\", DataDropper()),\n",
    "    (\"creater\", ColumnCreater()),\n",
    "    (\"nchangerp\", NameChangerP()),\n",
    "    (\"cdropper\", ColumnDropper()),\n",
    "    (\"ochangerp\", OrderChangerP())\n",
    "])"
   ]
  },
  {
   "cell_type": "markdown",
   "id": "e9ca7ed0",
   "metadata": {},
   "source": [
    "### Running the data through the pipelines"
   ]
  },
  {
   "cell_type": "code",
   "execution_count": 5,
   "id": "edd2c3f2",
   "metadata": {},
   "outputs": [],
   "source": [
    "temp1 = tpipe.fit_transform(temp1)\n",
    "temp2 = tpipe.fit_transform(temp2)\n",
    "temp3 = tpipe.fit_transform(temp3)\n",
    "temp4 = tpipe.fit_transform(temp4)\n",
    "temp5 = tpipe.fit_transform(temp5)\n",
    "temp6 = tpipe.fit_transform(temp6)\n",
    "temp7 = tpipe.fit_transform(temp7)\n",
    "temp8 = tpipe.fit_transform(temp8)\n",
    "temp9 = tpipe.fit_transform(temp9)\n",
    "temp10 = tpipe.fit_transform(temp10)\n",
    "temp11 = tpipe.fit_transform(temp11)\n",
    "temp12 = tpipe.fit_transform(temp12)\n",
    "\n",
    "pre1 = ppipe.fit_transform(pre1)\n",
    "pre2 = ppipe.fit_transform(pre2)\n",
    "pre3 = ppipe.fit_transform(pre3)\n",
    "pre4 = ppipe.fit_transform(pre4)\n",
    "pre5 = ppipe.fit_transform(pre5)\n",
    "pre6 = ppipe.fit_transform(pre6)\n",
    "pre7 = ppipe.fit_transform(pre7)\n",
    "pre8 = ppipe.fit_transform(pre8)\n",
    "pre9 = ppipe.fit_transform(pre9)\n",
    "pre10 = ppipe.fit_transform(pre10)\n",
    "pre11 = ppipe.fit_transform(pre11)\n",
    "pre12 = ppipe.fit_transform(pre12)"
   ]
  },
  {
   "cell_type": "markdown",
   "id": "91168d48",
   "metadata": {},
   "source": [
    "### Merging the data"
   ]
  },
  {
   "cell_type": "code",
   "execution_count": 6,
   "id": "18266f0b",
   "metadata": {},
   "outputs": [],
   "source": [
    "list = [\"Date\", \"Temperature (°C)\"]\n",
    "temp = temp1.merge(temp2, on=list, how=\"outer\")\n",
    "temp = temp.merge(temp3, on=list, how=\"outer\")\n",
    "temp = temp.merge(temp4, on=list, how=\"outer\")\n",
    "temp = temp.merge(temp5, on=list, how=\"outer\")\n",
    "temp = temp.merge(temp6, on=list, how=\"outer\")\n",
    "temp = temp.merge(temp7, on=list, how=\"outer\")\n",
    "temp = temp.merge(temp8, on=list, how=\"outer\")\n",
    "temp = temp.merge(temp9, on=list, how=\"outer\")\n",
    "temp = temp.merge(temp10, on=list, how=\"outer\")\n",
    "temp = temp.merge(temp11, on=list, how=\"outer\")\n",
    "temp = temp.merge(temp12, on=list, how=\"outer\")\n",
    "temp = temp.sort_values(by=[\"Date\"], ignore_index=True)\n",
    "\n",
    "list = [\"Date\", \"Precipitation (l/m²)\"]\n",
    "pre = pre1.merge(pre2, on=list, how=\"outer\")\n",
    "pre = pre.merge(pre3, on=list, how=\"outer\")\n",
    "pre = pre.merge(pre4, on=list, how=\"outer\")\n",
    "pre = pre.merge(pre5, on=list, how=\"outer\")\n",
    "pre = pre.merge(pre6, on=list, how=\"outer\")\n",
    "pre = pre.merge(pre7, on=list, how=\"outer\")\n",
    "pre = pre.merge(pre8, on=list, how=\"outer\")\n",
    "pre = pre.merge(pre9, on=list, how=\"outer\")\n",
    "pre = pre.merge(pre10, on=list, how=\"outer\")\n",
    "pre = pre.merge(pre11, on=list, how=\"outer\")\n",
    "pre = pre.merge(pre12, on=list, how=\"outer\")\n",
    "pre = pre.sort_values(by=[\"Date\"], ignore_index=True)\n",
    "\n",
    "list = [\"Date\"]\n",
    "df = temp.merge(pre, on=list, how=\"outer\")"
   ]
  },
  {
   "cell_type": "code",
   "execution_count": 7,
   "id": "65e5711e",
   "metadata": {},
   "outputs": [
    {
     "data": {
      "text/html": [
       "<div>\n",
       "<style scoped>\n",
       "    .dataframe tbody tr th:only-of-type {\n",
       "        vertical-align: middle;\n",
       "    }\n",
       "\n",
       "    .dataframe tbody tr th {\n",
       "        vertical-align: top;\n",
       "    }\n",
       "\n",
       "    .dataframe thead th {\n",
       "        text-align: right;\n",
       "    }\n",
       "</style>\n",
       "<table border=\"1\" class=\"dataframe\">\n",
       "  <thead>\n",
       "    <tr style=\"text-align: right;\">\n",
       "      <th></th>\n",
       "      <th>Date</th>\n",
       "      <th>Temperature (°C)</th>\n",
       "      <th>Precipitation (l/m²)</th>\n",
       "    </tr>\n",
       "  </thead>\n",
       "  <tbody>\n",
       "    <tr>\n",
       "      <th>0</th>\n",
       "      <td>1996-01</td>\n",
       "      <td>-2.82</td>\n",
       "      <td>7.0</td>\n",
       "    </tr>\n",
       "    <tr>\n",
       "      <th>1</th>\n",
       "      <td>1996-02</td>\n",
       "      <td>-2.18</td>\n",
       "      <td>48.6</td>\n",
       "    </tr>\n",
       "    <tr>\n",
       "      <th>2</th>\n",
       "      <td>1996-03</td>\n",
       "      <td>1.00</td>\n",
       "      <td>23.3</td>\n",
       "    </tr>\n",
       "    <tr>\n",
       "      <th>3</th>\n",
       "      <td>1996-04</td>\n",
       "      <td>8.40</td>\n",
       "      <td>23.1</td>\n",
       "    </tr>\n",
       "    <tr>\n",
       "      <th>4</th>\n",
       "      <td>1996-05</td>\n",
       "      <td>11.15</td>\n",
       "      <td>91.4</td>\n",
       "    </tr>\n",
       "  </tbody>\n",
       "</table>\n",
       "</div>"
      ],
      "text/plain": [
       "      Date  Temperature (°C)  Precipitation (l/m²)\n",
       "0  1996-01             -2.82                   7.0\n",
       "1  1996-02             -2.18                  48.6\n",
       "2  1996-03              1.00                  23.3\n",
       "3  1996-04              8.40                  23.1\n",
       "4  1996-05             11.15                  91.4"
      ]
     },
     "execution_count": 7,
     "metadata": {},
     "output_type": "execute_result"
    }
   ],
   "source": [
    "df.head()"
   ]
  },
  {
   "cell_type": "code",
   "execution_count": 8,
   "id": "4153375d",
   "metadata": {},
   "outputs": [],
   "source": [
    "df.to_csv('C:/Users/Jakob/Desktop/Dataset/weather_data.csv')"
   ]
  },
  {
   "cell_type": "code",
   "execution_count": null,
   "id": "99f2662f",
   "metadata": {},
   "outputs": [],
   "source": []
  }
 ],
 "metadata": {
  "kernelspec": {
   "display_name": "Python 3 (ipykernel)",
   "language": "python",
   "name": "python3"
  },
  "language_info": {
   "codemirror_mode": {
    "name": "ipython",
    "version": 3
   },
   "file_extension": ".py",
   "mimetype": "text/x-python",
   "name": "python",
   "nbconvert_exporter": "python",
   "pygments_lexer": "ipython3",
   "version": "3.11.3"
  }
 },
 "nbformat": 4,
 "nbformat_minor": 5
}
