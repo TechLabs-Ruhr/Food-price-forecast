{
 "cells": [
  {
   "cell_type": "markdown",
   "id": "4c6e3a0d",
   "metadata": {},
   "source": [
    "## Formating the data (electricity prices)"
   ]
  },
  {
   "cell_type": "code",
   "execution_count": 1,
   "id": "bd42b49b",
   "metadata": {},
   "outputs": [],
   "source": [
    "import pandas as pd\n",
    "import numpy as np"
   ]
  },
  {
   "cell_type": "markdown",
   "id": "1f83ea51",
   "metadata": {},
   "source": [
    "### Import data in .csv format"
   ]
  },
  {
   "cell_type": "code",
   "execution_count": 2,
   "id": "9ab7f6e4",
   "metadata": {},
   "outputs": [],
   "source": [
    "df = pd.read_csv('nrg_pc_205_MT150000.csv', sep=\",\", header=0) \n",
    "#source: https://ec.europa.eu/eurostat/databrowser/view/NRG_PC_205__custom_7096193/default/table"
   ]
  },
  {
   "cell_type": "code",
   "execution_count": 3,
   "id": "150cf02d",
   "metadata": {},
   "outputs": [
    {
     "data": {
      "text/html": [
       "<div>\n",
       "<style scoped>\n",
       "    .dataframe tbody tr th:only-of-type {\n",
       "        vertical-align: middle;\n",
       "    }\n",
       "\n",
       "    .dataframe tbody tr th {\n",
       "        vertical-align: top;\n",
       "    }\n",
       "\n",
       "    .dataframe thead th {\n",
       "        text-align: right;\n",
       "    }\n",
       "</style>\n",
       "<table border=\"1\" class=\"dataframe\">\n",
       "  <thead>\n",
       "    <tr style=\"text-align: right;\">\n",
       "      <th></th>\n",
       "      <th>DATAFLOW</th>\n",
       "      <th>LAST UPDATE</th>\n",
       "      <th>freq</th>\n",
       "      <th>product</th>\n",
       "      <th>nrg_cons</th>\n",
       "      <th>unit</th>\n",
       "      <th>tax</th>\n",
       "      <th>currency</th>\n",
       "      <th>geo</th>\n",
       "      <th>TIME_PERIOD</th>\n",
       "      <th>OBS_VALUE</th>\n",
       "      <th>OBS_FLAG</th>\n",
       "    </tr>\n",
       "  </thead>\n",
       "  <tbody>\n",
       "    <tr>\n",
       "      <th>0</th>\n",
       "      <td>ESTAT:NRG_PC_205(1.0)</td>\n",
       "      <td>28/06/23 23:00:00</td>\n",
       "      <td>S</td>\n",
       "      <td>6000</td>\n",
       "      <td>MWH_GE150000</td>\n",
       "      <td>KWH</td>\n",
       "      <td>X_TAX</td>\n",
       "      <td>EUR</td>\n",
       "      <td>DE</td>\n",
       "      <td>2019-S2</td>\n",
       "      <td>0.0348</td>\n",
       "      <td>NaN</td>\n",
       "    </tr>\n",
       "    <tr>\n",
       "      <th>1</th>\n",
       "      <td>ESTAT:NRG_PC_205(1.0)</td>\n",
       "      <td>28/06/23 23:00:00</td>\n",
       "      <td>S</td>\n",
       "      <td>6000</td>\n",
       "      <td>MWH_GE150000</td>\n",
       "      <td>KWH</td>\n",
       "      <td>X_TAX</td>\n",
       "      <td>EUR</td>\n",
       "      <td>DE</td>\n",
       "      <td>2020-S1</td>\n",
       "      <td>0.0342</td>\n",
       "      <td>NaN</td>\n",
       "    </tr>\n",
       "    <tr>\n",
       "      <th>2</th>\n",
       "      <td>ESTAT:NRG_PC_205(1.0)</td>\n",
       "      <td>28/06/23 23:00:00</td>\n",
       "      <td>S</td>\n",
       "      <td>6000</td>\n",
       "      <td>MWH_GE150000</td>\n",
       "      <td>KWH</td>\n",
       "      <td>X_TAX</td>\n",
       "      <td>EUR</td>\n",
       "      <td>DE</td>\n",
       "      <td>2020-S2</td>\n",
       "      <td>0.0389</td>\n",
       "      <td>NaN</td>\n",
       "    </tr>\n",
       "    <tr>\n",
       "      <th>3</th>\n",
       "      <td>ESTAT:NRG_PC_205(1.0)</td>\n",
       "      <td>28/06/23 23:00:00</td>\n",
       "      <td>S</td>\n",
       "      <td>6000</td>\n",
       "      <td>MWH_GE150000</td>\n",
       "      <td>KWH</td>\n",
       "      <td>X_TAX</td>\n",
       "      <td>EUR</td>\n",
       "      <td>DE</td>\n",
       "      <td>2021-S1</td>\n",
       "      <td>0.0514</td>\n",
       "      <td>NaN</td>\n",
       "    </tr>\n",
       "    <tr>\n",
       "      <th>4</th>\n",
       "      <td>ESTAT:NRG_PC_205(1.0)</td>\n",
       "      <td>28/06/23 23:00:00</td>\n",
       "      <td>S</td>\n",
       "      <td>6000</td>\n",
       "      <td>MWH_GE150000</td>\n",
       "      <td>KWH</td>\n",
       "      <td>X_TAX</td>\n",
       "      <td>EUR</td>\n",
       "      <td>DE</td>\n",
       "      <td>2021-S2</td>\n",
       "      <td>0.0981</td>\n",
       "      <td>NaN</td>\n",
       "    </tr>\n",
       "  </tbody>\n",
       "</table>\n",
       "</div>"
      ],
      "text/plain": [
       "                DATAFLOW        LAST UPDATE freq  product      nrg_cons unit  \\\n",
       "0  ESTAT:NRG_PC_205(1.0)  28/06/23 23:00:00    S     6000  MWH_GE150000  KWH   \n",
       "1  ESTAT:NRG_PC_205(1.0)  28/06/23 23:00:00    S     6000  MWH_GE150000  KWH   \n",
       "2  ESTAT:NRG_PC_205(1.0)  28/06/23 23:00:00    S     6000  MWH_GE150000  KWH   \n",
       "3  ESTAT:NRG_PC_205(1.0)  28/06/23 23:00:00    S     6000  MWH_GE150000  KWH   \n",
       "4  ESTAT:NRG_PC_205(1.0)  28/06/23 23:00:00    S     6000  MWH_GE150000  KWH   \n",
       "\n",
       "     tax currency geo TIME_PERIOD  OBS_VALUE  OBS_FLAG  \n",
       "0  X_TAX      EUR  DE     2019-S2     0.0348       NaN  \n",
       "1  X_TAX      EUR  DE     2020-S1     0.0342       NaN  \n",
       "2  X_TAX      EUR  DE     2020-S2     0.0389       NaN  \n",
       "3  X_TAX      EUR  DE     2021-S1     0.0514       NaN  \n",
       "4  X_TAX      EUR  DE     2021-S2     0.0981       NaN  "
      ]
     },
     "execution_count": 3,
     "metadata": {},
     "output_type": "execute_result"
    }
   ],
   "source": [
    "df.head()"
   ]
  },
  {
   "cell_type": "markdown",
   "id": "ff450e6c",
   "metadata": {},
   "source": [
    "### Delete unnecassary columns"
   ]
  },
  {
   "cell_type": "code",
   "execution_count": 4,
   "id": "be18140c",
   "metadata": {},
   "outputs": [],
   "source": [
    "columns_to_delete = list(range(0,9))\n",
    "df = df.drop(df.columns[columns_to_delete], axis=1)\n",
    "df = df.drop('OBS_FLAG', axis=1)"
   ]
  },
  {
   "cell_type": "code",
   "execution_count": 5,
   "id": "fdba2cbd",
   "metadata": {},
   "outputs": [
    {
     "data": {
      "text/html": [
       "<div>\n",
       "<style scoped>\n",
       "    .dataframe tbody tr th:only-of-type {\n",
       "        vertical-align: middle;\n",
       "    }\n",
       "\n",
       "    .dataframe tbody tr th {\n",
       "        vertical-align: top;\n",
       "    }\n",
       "\n",
       "    .dataframe thead th {\n",
       "        text-align: right;\n",
       "    }\n",
       "</style>\n",
       "<table border=\"1\" class=\"dataframe\">\n",
       "  <thead>\n",
       "    <tr style=\"text-align: right;\">\n",
       "      <th></th>\n",
       "      <th>TIME_PERIOD</th>\n",
       "      <th>OBS_VALUE</th>\n",
       "    </tr>\n",
       "  </thead>\n",
       "  <tbody>\n",
       "    <tr>\n",
       "      <th>0</th>\n",
       "      <td>2019-S2</td>\n",
       "      <td>0.0348</td>\n",
       "    </tr>\n",
       "    <tr>\n",
       "      <th>1</th>\n",
       "      <td>2020-S1</td>\n",
       "      <td>0.0342</td>\n",
       "    </tr>\n",
       "    <tr>\n",
       "      <th>2</th>\n",
       "      <td>2020-S2</td>\n",
       "      <td>0.0389</td>\n",
       "    </tr>\n",
       "    <tr>\n",
       "      <th>3</th>\n",
       "      <td>2021-S1</td>\n",
       "      <td>0.0514</td>\n",
       "    </tr>\n",
       "    <tr>\n",
       "      <th>4</th>\n",
       "      <td>2021-S2</td>\n",
       "      <td>0.0981</td>\n",
       "    </tr>\n",
       "  </tbody>\n",
       "</table>\n",
       "</div>"
      ],
      "text/plain": [
       "  TIME_PERIOD  OBS_VALUE\n",
       "0     2019-S2     0.0348\n",
       "1     2020-S1     0.0342\n",
       "2     2020-S2     0.0389\n",
       "3     2021-S1     0.0514\n",
       "4     2021-S2     0.0981"
      ]
     },
     "execution_count": 5,
     "metadata": {},
     "output_type": "execute_result"
    }
   ],
   "source": [
    "df.head()"
   ]
  },
  {
   "cell_type": "markdown",
   "id": "092742a2",
   "metadata": {},
   "source": [
    "### Multiply all columns ( Since only a semi-annual average is available, this is used for each month.)"
   ]
  },
  {
   "cell_type": "code",
   "execution_count": 6,
   "id": "de75867b",
   "metadata": {},
   "outputs": [],
   "source": [
    "df = df.loc[np.repeat(df.index, 6)].reset_index(drop=True)"
   ]
  },
  {
   "cell_type": "code",
   "execution_count": 7,
   "id": "363e9229",
   "metadata": {},
   "outputs": [
    {
     "data": {
      "text/html": [
       "<div>\n",
       "<style scoped>\n",
       "    .dataframe tbody tr th:only-of-type {\n",
       "        vertical-align: middle;\n",
       "    }\n",
       "\n",
       "    .dataframe tbody tr th {\n",
       "        vertical-align: top;\n",
       "    }\n",
       "\n",
       "    .dataframe thead th {\n",
       "        text-align: right;\n",
       "    }\n",
       "</style>\n",
       "<table border=\"1\" class=\"dataframe\">\n",
       "  <thead>\n",
       "    <tr style=\"text-align: right;\">\n",
       "      <th></th>\n",
       "      <th>TIME_PERIOD</th>\n",
       "      <th>OBS_VALUE</th>\n",
       "    </tr>\n",
       "  </thead>\n",
       "  <tbody>\n",
       "    <tr>\n",
       "      <th>0</th>\n",
       "      <td>2019-S2</td>\n",
       "      <td>0.0348</td>\n",
       "    </tr>\n",
       "    <tr>\n",
       "      <th>1</th>\n",
       "      <td>2019-S2</td>\n",
       "      <td>0.0348</td>\n",
       "    </tr>\n",
       "    <tr>\n",
       "      <th>2</th>\n",
       "      <td>2019-S2</td>\n",
       "      <td>0.0348</td>\n",
       "    </tr>\n",
       "    <tr>\n",
       "      <th>3</th>\n",
       "      <td>2019-S2</td>\n",
       "      <td>0.0348</td>\n",
       "    </tr>\n",
       "    <tr>\n",
       "      <th>4</th>\n",
       "      <td>2019-S2</td>\n",
       "      <td>0.0348</td>\n",
       "    </tr>\n",
       "  </tbody>\n",
       "</table>\n",
       "</div>"
      ],
      "text/plain": [
       "  TIME_PERIOD  OBS_VALUE\n",
       "0     2019-S2     0.0348\n",
       "1     2019-S2     0.0348\n",
       "2     2019-S2     0.0348\n",
       "3     2019-S2     0.0348\n",
       "4     2019-S2     0.0348"
      ]
     },
     "execution_count": 7,
     "metadata": {},
     "output_type": "execute_result"
    }
   ],
   "source": [
    "df.head()"
   ]
  },
  {
   "cell_type": "markdown",
   "id": "f45af60f",
   "metadata": {},
   "source": [
    "## Import data in .csv format and merging"
   ]
  },
  {
   "cell_type": "code",
   "execution_count": 8,
   "id": "382e4f66",
   "metadata": {},
   "outputs": [],
   "source": [
    "df2 = pd.read_csv('Time.csv', sep=\",\", header=0) "
   ]
  },
  {
   "cell_type": "code",
   "execution_count": 9,
   "id": "9b9b848f",
   "metadata": {},
   "outputs": [
    {
     "data": {
      "text/html": [
       "<div>\n",
       "<style scoped>\n",
       "    .dataframe tbody tr th:only-of-type {\n",
       "        vertical-align: middle;\n",
       "    }\n",
       "\n",
       "    .dataframe tbody tr th {\n",
       "        vertical-align: top;\n",
       "    }\n",
       "\n",
       "    .dataframe thead th {\n",
       "        text-align: right;\n",
       "    }\n",
       "</style>\n",
       "<table border=\"1\" class=\"dataframe\">\n",
       "  <thead>\n",
       "    <tr style=\"text-align: right;\">\n",
       "      <th></th>\n",
       "      <th>Time</th>\n",
       "    </tr>\n",
       "  </thead>\n",
       "  <tbody>\n",
       "    <tr>\n",
       "      <th>0</th>\n",
       "      <td>2007-01</td>\n",
       "    </tr>\n",
       "    <tr>\n",
       "      <th>1</th>\n",
       "      <td>2007-02</td>\n",
       "    </tr>\n",
       "    <tr>\n",
       "      <th>2</th>\n",
       "      <td>2007-03</td>\n",
       "    </tr>\n",
       "    <tr>\n",
       "      <th>3</th>\n",
       "      <td>2007-04</td>\n",
       "    </tr>\n",
       "    <tr>\n",
       "      <th>4</th>\n",
       "      <td>2007-05</td>\n",
       "    </tr>\n",
       "  </tbody>\n",
       "</table>\n",
       "</div>"
      ],
      "text/plain": [
       "      Time\n",
       "0  2007-01\n",
       "1  2007-02\n",
       "2  2007-03\n",
       "3  2007-04\n",
       "4  2007-05"
      ]
     },
     "execution_count": 9,
     "metadata": {},
     "output_type": "execute_result"
    }
   ],
   "source": [
    "df2.head()"
   ]
  },
  {
   "cell_type": "code",
   "execution_count": 10,
   "id": "bbf075bc",
   "metadata": {},
   "outputs": [],
   "source": [
    "df1 = df.merge(df2, left_on='TIME_PERIOD', right_on='Time')\n",
    "df1['Time'] = df2['Time'].fillna(df1['Time'])\n",
    "df1['OBS_VALUE'] = df['OBS_VALUE'].fillna(df1['OBS_VALUE'])\n",
    "df1 = df1.drop('TIME_PERIOD', axis=1)\n",
    "df1.rename(columns={'OBS_VALUE': '€/kWh'}, inplace=True)\n",
    "new_columns_order = ['Time', '€/kWh']\n",
    "df1 = df1[new_columns_order]"
   ]
  },
  {
   "cell_type": "code",
   "execution_count": 11,
   "id": "c8a0569d",
   "metadata": {},
   "outputs": [
    {
     "data": {
      "text/html": [
       "<div>\n",
       "<style scoped>\n",
       "    .dataframe tbody tr th:only-of-type {\n",
       "        vertical-align: middle;\n",
       "    }\n",
       "\n",
       "    .dataframe tbody tr th {\n",
       "        vertical-align: top;\n",
       "    }\n",
       "\n",
       "    .dataframe thead th {\n",
       "        text-align: right;\n",
       "    }\n",
       "</style>\n",
       "<table border=\"1\" class=\"dataframe\">\n",
       "  <thead>\n",
       "    <tr style=\"text-align: right;\">\n",
       "      <th></th>\n",
       "      <th>Time</th>\n",
       "      <th>€/kWh</th>\n",
       "    </tr>\n",
       "  </thead>\n",
       "  <tbody>\n",
       "    <tr>\n",
       "      <th>0</th>\n",
       "      <td>2007-01</td>\n",
       "      <td>0.0348</td>\n",
       "    </tr>\n",
       "    <tr>\n",
       "      <th>1</th>\n",
       "      <td>2007-02</td>\n",
       "      <td>0.0348</td>\n",
       "    </tr>\n",
       "    <tr>\n",
       "      <th>2</th>\n",
       "      <td>2007-03</td>\n",
       "      <td>0.0348</td>\n",
       "    </tr>\n",
       "    <tr>\n",
       "      <th>3</th>\n",
       "      <td>2007-04</td>\n",
       "      <td>0.0348</td>\n",
       "    </tr>\n",
       "    <tr>\n",
       "      <th>4</th>\n",
       "      <td>2007-05</td>\n",
       "      <td>0.0348</td>\n",
       "    </tr>\n",
       "  </tbody>\n",
       "</table>\n",
       "</div>"
      ],
      "text/plain": [
       "      Time   €/kWh\n",
       "0  2007-01  0.0348\n",
       "1  2007-02  0.0348\n",
       "2  2007-03  0.0348\n",
       "3  2007-04  0.0348\n",
       "4  2007-05  0.0348"
      ]
     },
     "execution_count": 11,
     "metadata": {},
     "output_type": "execute_result"
    }
   ],
   "source": [
    "df1.head()"
   ]
  },
  {
   "cell_type": "markdown",
   "id": "6bc16516",
   "metadata": {},
   "source": [
    "## Saving the data"
   ]
  },
  {
   "cell_type": "code",
   "execution_count": 12,
   "id": "203f1aa7",
   "metadata": {},
   "outputs": [],
   "source": [
    "df1.to_csv('C:/Users/Jakob/Desktop/Dataset/Electricity prices/MWH_MT150000.csv')"
   ]
  },
  {
   "cell_type": "code",
   "execution_count": null,
   "id": "3ceee72a",
   "metadata": {},
   "outputs": [],
   "source": []
  }
 ],
 "metadata": {
  "kernelspec": {
   "display_name": "Python 3 (ipykernel)",
   "language": "python",
   "name": "python3"
  },
  "language_info": {
   "codemirror_mode": {
    "name": "ipython",
    "version": 3
   },
   "file_extension": ".py",
   "mimetype": "text/x-python",
   "name": "python",
   "nbconvert_exporter": "python",
   "pygments_lexer": "ipython3",
   "version": "3.11.3"
  }
 },
 "nbformat": 4,
 "nbformat_minor": 5
}
