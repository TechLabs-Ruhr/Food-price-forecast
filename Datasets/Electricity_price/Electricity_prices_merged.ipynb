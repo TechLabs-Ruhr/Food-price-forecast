{
 "cells": [
  {
   "cell_type": "markdown",
   "id": "2090e1b3",
   "metadata": {},
   "source": [
    "## Merging of the monthly data"
   ]
  },
  {
   "cell_type": "code",
   "execution_count": 1,
   "id": "a9bc8922",
   "metadata": {},
   "outputs": [],
   "source": [
    "import pandas as pd\n",
    "from os import listdir"
   ]
  },
  {
   "cell_type": "markdown",
   "id": "15449c68",
   "metadata": {},
   "source": [
    "### Import data in .csv format"
   ]
  },
  {
   "cell_type": "code",
   "execution_count": 2,
   "id": "58ac19a4",
   "metadata": {},
   "outputs": [],
   "source": [
    "def find_csv_filenames( path_to_dir, suffix=\"MWH\" ):\n",
    "    filenames = listdir(path_to_dir)\n",
    "    return [ filename for filename in filenames if filename.startswith( suffix ) ]"
   ]
  },
  {
   "cell_type": "code",
   "execution_count": 3,
   "id": "31e4cb39",
   "metadata": {},
   "outputs": [
    {
     "name": "stdout",
     "output_type": "stream",
     "text": [
      "MWH_LT20.csv\n",
      "MWH_MT150000.csv\n",
      "MWH_MT20.csv\n",
      "MWH_MT2000.csv\n",
      "MWH_MT20000.csv\n",
      "MWH_MT500.csv\n",
      "MWH_MT70000.csv\n"
     ]
    }
   ],
   "source": [
    "file_list = []\n",
    "filenames = find_csv_filenames('C:/Users/Jakob/Desktop/Dataset/Electricity prices')\n",
    "for name in filenames:\n",
    "    file_list.append(name)\n",
    "    print(name)"
   ]
  },
  {
   "cell_type": "code",
   "execution_count": 4,
   "id": "6cd73fac",
   "metadata": {},
   "outputs": [],
   "source": [
    "filepath = 'C:/Users/Jakob/Desktop/Dataset/Electricity prices/'\n",
    "df1 = pd.read_csv(filepath+file_list[0], index_col=[0])\n",
    "df2 = pd.read_csv(filepath+file_list[1], index_col=[0])\n",
    "df3 = pd.read_csv(filepath+file_list[2], index_col=[0])\n",
    "df4 = pd.read_csv(filepath+file_list[3], index_col=[0])\n",
    "df5 = pd.read_csv(filepath+file_list[4], index_col=[0])\n",
    "df6 = pd.read_csv(filepath+file_list[5], index_col=[0])\n",
    "df7 = pd.read_csv(filepath+file_list[6], index_col=[0])"
   ]
  },
  {
   "cell_type": "markdown",
   "id": "50492c00",
   "metadata": {},
   "source": [
    "### Merging"
   ]
  },
  {
   "cell_type": "code",
   "execution_count": 5,
   "id": "59f31cd3",
   "metadata": {},
   "outputs": [],
   "source": [
    "list = [\"Time\", '€/kWh']\n",
    "df = df1.merge(df2, on=list, how='outer')\n",
    "df = df.merge(df3, on=list, how='outer')\n",
    "df = df.merge(df4, on=list, how='outer')\n",
    "df = df.merge(df5, on=list, how='outer')\n",
    "df = df.merge(df6, on=list, how='outer')\n",
    "df = df.merge(df7, on=list, how='outer')"
   ]
  },
  {
   "cell_type": "code",
   "execution_count": 6,
   "id": "99fd6aba",
   "metadata": {},
   "outputs": [
    {
     "data": {
      "text/html": [
       "<div>\n",
       "<style scoped>\n",
       "    .dataframe tbody tr th:only-of-type {\n",
       "        vertical-align: middle;\n",
       "    }\n",
       "\n",
       "    .dataframe tbody tr th {\n",
       "        vertical-align: top;\n",
       "    }\n",
       "\n",
       "    .dataframe thead th {\n",
       "        text-align: right;\n",
       "    }\n",
       "</style>\n",
       "<table border=\"1\" class=\"dataframe\">\n",
       "  <thead>\n",
       "    <tr style=\"text-align: right;\">\n",
       "      <th></th>\n",
       "      <th>Time</th>\n",
       "      <th>€/kWh</th>\n",
       "    </tr>\n",
       "  </thead>\n",
       "  <tbody>\n",
       "    <tr>\n",
       "      <th>0</th>\n",
       "      <td>2007-01</td>\n",
       "      <td>0.1489</td>\n",
       "    </tr>\n",
       "    <tr>\n",
       "      <th>1</th>\n",
       "      <td>2007-02</td>\n",
       "      <td>0.1489</td>\n",
       "    </tr>\n",
       "    <tr>\n",
       "      <th>2</th>\n",
       "      <td>2007-03</td>\n",
       "      <td>0.1489</td>\n",
       "    </tr>\n",
       "    <tr>\n",
       "      <th>3</th>\n",
       "      <td>2007-04</td>\n",
       "      <td>0.1489</td>\n",
       "    </tr>\n",
       "    <tr>\n",
       "      <th>4</th>\n",
       "      <td>2007-05</td>\n",
       "      <td>0.1489</td>\n",
       "    </tr>\n",
       "    <tr>\n",
       "      <th>...</th>\n",
       "      <td>...</td>\n",
       "      <td>...</td>\n",
       "    </tr>\n",
       "    <tr>\n",
       "      <th>95</th>\n",
       "      <td>2014-12</td>\n",
       "      <td>0.1403</td>\n",
       "    </tr>\n",
       "    <tr>\n",
       "      <th>96</th>\n",
       "      <td>2015-01</td>\n",
       "      <td>0.1349</td>\n",
       "    </tr>\n",
       "    <tr>\n",
       "      <th>97</th>\n",
       "      <td>2015-02</td>\n",
       "      <td>0.1349</td>\n",
       "    </tr>\n",
       "    <tr>\n",
       "      <th>98</th>\n",
       "      <td>2015-03</td>\n",
       "      <td>0.1349</td>\n",
       "    </tr>\n",
       "    <tr>\n",
       "      <th>99</th>\n",
       "      <td>2015-04</td>\n",
       "      <td>0.1349</td>\n",
       "    </tr>\n",
       "  </tbody>\n",
       "</table>\n",
       "<p>100 rows × 2 columns</p>\n",
       "</div>"
      ],
      "text/plain": [
       "       Time   €/kWh\n",
       "0   2007-01  0.1489\n",
       "1   2007-02  0.1489\n",
       "2   2007-03  0.1489\n",
       "3   2007-04  0.1489\n",
       "4   2007-05  0.1489\n",
       "..      ...     ...\n",
       "95  2014-12  0.1403\n",
       "96  2015-01  0.1349\n",
       "97  2015-02  0.1349\n",
       "98  2015-03  0.1349\n",
       "99  2015-04  0.1349\n",
       "\n",
       "[100 rows x 2 columns]"
      ]
     },
     "execution_count": 6,
     "metadata": {},
     "output_type": "execute_result"
    }
   ],
   "source": [
    "df.head(100)"
   ]
  },
  {
   "cell_type": "markdown",
   "id": "caa99a0f",
   "metadata": {},
   "source": [
    "### Sorting data, form average and saving it"
   ]
  },
  {
   "cell_type": "code",
   "execution_count": 7,
   "id": "dc9ab770",
   "metadata": {},
   "outputs": [],
   "source": [
    "df = df.sort_values(by=['Time'], ignore_index=True)"
   ]
  },
  {
   "cell_type": "code",
   "execution_count": 8,
   "id": "6b0679db",
   "metadata": {},
   "outputs": [
    {
     "data": {
      "text/html": [
       "<div>\n",
       "<style scoped>\n",
       "    .dataframe tbody tr th:only-of-type {\n",
       "        vertical-align: middle;\n",
       "    }\n",
       "\n",
       "    .dataframe tbody tr th {\n",
       "        vertical-align: top;\n",
       "    }\n",
       "\n",
       "    .dataframe thead th {\n",
       "        text-align: right;\n",
       "    }\n",
       "</style>\n",
       "<table border=\"1\" class=\"dataframe\">\n",
       "  <thead>\n",
       "    <tr style=\"text-align: right;\">\n",
       "      <th></th>\n",
       "      <th>Time</th>\n",
       "      <th>€/kWh</th>\n",
       "    </tr>\n",
       "  </thead>\n",
       "  <tbody>\n",
       "    <tr>\n",
       "      <th>0</th>\n",
       "      <td>2007-01</td>\n",
       "      <td>0.1489</td>\n",
       "    </tr>\n",
       "    <tr>\n",
       "      <th>1</th>\n",
       "      <td>2007-01</td>\n",
       "      <td>0.0741</td>\n",
       "    </tr>\n",
       "    <tr>\n",
       "      <th>2</th>\n",
       "      <td>2007-01</td>\n",
       "      <td>0.0667</td>\n",
       "    </tr>\n",
       "    <tr>\n",
       "      <th>3</th>\n",
       "      <td>2007-01</td>\n",
       "      <td>0.1104</td>\n",
       "    </tr>\n",
       "    <tr>\n",
       "      <th>4</th>\n",
       "      <td>2007-01</td>\n",
       "      <td>0.0348</td>\n",
       "    </tr>\n",
       "    <tr>\n",
       "      <th>5</th>\n",
       "      <td>2007-01</td>\n",
       "      <td>0.0680</td>\n",
       "    </tr>\n",
       "    <tr>\n",
       "      <th>6</th>\n",
       "      <td>2007-01</td>\n",
       "      <td>0.0857</td>\n",
       "    </tr>\n",
       "  </tbody>\n",
       "</table>\n",
       "</div>"
      ],
      "text/plain": [
       "      Time   €/kWh\n",
       "0  2007-01  0.1489\n",
       "1  2007-01  0.0741\n",
       "2  2007-01  0.0667\n",
       "3  2007-01  0.1104\n",
       "4  2007-01  0.0348\n",
       "5  2007-01  0.0680\n",
       "6  2007-01  0.0857"
      ]
     },
     "execution_count": 8,
     "metadata": {},
     "output_type": "execute_result"
    }
   ],
   "source": [
    "df.head(7)"
   ]
  },
  {
   "cell_type": "code",
   "execution_count": 9,
   "id": "e761d015",
   "metadata": {},
   "outputs": [],
   "source": [
    "df_grouped = df.groupby('Time')['€/kWh'].mean().reset_index()"
   ]
  },
  {
   "cell_type": "code",
   "execution_count": 10,
   "id": "8d479346",
   "metadata": {},
   "outputs": [
    {
     "data": {
      "text/html": [
       "<div>\n",
       "<style scoped>\n",
       "    .dataframe tbody tr th:only-of-type {\n",
       "        vertical-align: middle;\n",
       "    }\n",
       "\n",
       "    .dataframe tbody tr th {\n",
       "        vertical-align: top;\n",
       "    }\n",
       "\n",
       "    .dataframe thead th {\n",
       "        text-align: right;\n",
       "    }\n",
       "</style>\n",
       "<table border=\"1\" class=\"dataframe\">\n",
       "  <thead>\n",
       "    <tr style=\"text-align: right;\">\n",
       "      <th></th>\n",
       "      <th>Time</th>\n",
       "      <th>€/kWh</th>\n",
       "    </tr>\n",
       "  </thead>\n",
       "  <tbody>\n",
       "    <tr>\n",
       "      <th>0</th>\n",
       "      <td>2007-01</td>\n",
       "      <td>0.084086</td>\n",
       "    </tr>\n",
       "    <tr>\n",
       "      <th>1</th>\n",
       "      <td>2007-02</td>\n",
       "      <td>0.084086</td>\n",
       "    </tr>\n",
       "    <tr>\n",
       "      <th>2</th>\n",
       "      <td>2007-03</td>\n",
       "      <td>0.084086</td>\n",
       "    </tr>\n",
       "    <tr>\n",
       "      <th>3</th>\n",
       "      <td>2007-04</td>\n",
       "      <td>0.084086</td>\n",
       "    </tr>\n",
       "    <tr>\n",
       "      <th>4</th>\n",
       "      <td>2007-05</td>\n",
       "      <td>0.084086</td>\n",
       "    </tr>\n",
       "  </tbody>\n",
       "</table>\n",
       "</div>"
      ],
      "text/plain": [
       "      Time     €/kWh\n",
       "0  2007-01  0.084086\n",
       "1  2007-02  0.084086\n",
       "2  2007-03  0.084086\n",
       "3  2007-04  0.084086\n",
       "4  2007-05  0.084086"
      ]
     },
     "execution_count": 10,
     "metadata": {},
     "output_type": "execute_result"
    }
   ],
   "source": [
    "df_grouped.head()"
   ]
  },
  {
   "cell_type": "code",
   "execution_count": 11,
   "id": "148d1b93",
   "metadata": {},
   "outputs": [],
   "source": [
    "df_grouped.to_csv('C:/Users/Jakob/Desktop/Dataset/electricity_prices_merged.csv')"
   ]
  },
  {
   "cell_type": "code",
   "execution_count": null,
   "id": "3dca54d0",
   "metadata": {},
   "outputs": [],
   "source": []
  }
 ],
 "metadata": {
  "kernelspec": {
   "display_name": "Python 3 (ipykernel)",
   "language": "python",
   "name": "python3"
  },
  "language_info": {
   "codemirror_mode": {
    "name": "ipython",
    "version": 3
   },
   "file_extension": ".py",
   "mimetype": "text/x-python",
   "name": "python",
   "nbconvert_exporter": "python",
   "pygments_lexer": "ipython3",
   "version": "3.11.3"
  }
 },
 "nbformat": 4,
 "nbformat_minor": 5
}
