{
 "cells": [
  {
   "cell_type": "markdown",
   "id": "e275162a",
   "metadata": {},
   "source": [
    "## Formatting the data (Brent oil price)"
   ]
  },
  {
   "cell_type": "code",
   "execution_count": 1,
   "id": "f5ac3e96",
   "metadata": {},
   "outputs": [],
   "source": [
    "import pandas as pd"
   ]
  },
  {
   "cell_type": "markdown",
   "id": "57da886c",
   "metadata": {},
   "source": [
    "### Import data in .csv format and delete unnecessary data"
   ]
  },
  {
   "cell_type": "code",
   "execution_count": 2,
   "id": "24b0a814",
   "metadata": {},
   "outputs": [],
   "source": [
    "df = pd.read_csv('Brent Öl Futures Historische Daten.csv', sep=';')\n",
    "#https://de.investing.com/commodities/brent-oil-historical-data"
   ]
  },
  {
   "cell_type": "code",
   "execution_count": 3,
   "id": "25c39b3d",
   "metadata": {},
   "outputs": [
    {
     "data": {
      "text/html": [
       "<div>\n",
       "<style scoped>\n",
       "    .dataframe tbody tr th:only-of-type {\n",
       "        vertical-align: middle;\n",
       "    }\n",
       "\n",
       "    .dataframe tbody tr th {\n",
       "        vertical-align: top;\n",
       "    }\n",
       "\n",
       "    .dataframe thead th {\n",
       "        text-align: right;\n",
       "    }\n",
       "</style>\n",
       "<table border=\"1\" class=\"dataframe\">\n",
       "  <thead>\n",
       "    <tr style=\"text-align: right;\">\n",
       "      <th></th>\n",
       "      <th>Datum</th>\n",
       "      <th>Zuletzt</th>\n",
       "      <th>Eröffn.</th>\n",
       "      <th>Hoch</th>\n",
       "      <th>Tief</th>\n",
       "      <th>Vol.</th>\n",
       "      <th>+/- %</th>\n",
       "    </tr>\n",
       "  </thead>\n",
       "  <tbody>\n",
       "    <tr>\n",
       "      <th>0</th>\n",
       "      <td>1996-01</td>\n",
       "      <td>16,52</td>\n",
       "      <td>18,55</td>\n",
       "      <td>19,31</td>\n",
       "      <td>15,93</td>\n",
       "      <td>505,04K</td>\n",
       "      <td>-9,87%</td>\n",
       "    </tr>\n",
       "    <tr>\n",
       "      <th>1</th>\n",
       "      <td>1996-02</td>\n",
       "      <td>17,76</td>\n",
       "      <td>16,6</td>\n",
       "      <td>18,45</td>\n",
       "      <td>16,43</td>\n",
       "      <td>410,02K</td>\n",
       "      <td>7,51%</td>\n",
       "    </tr>\n",
       "    <tr>\n",
       "      <th>2</th>\n",
       "      <td>1996-03</td>\n",
       "      <td>19,41</td>\n",
       "      <td>17,9</td>\n",
       "      <td>20,3</td>\n",
       "      <td>17,2</td>\n",
       "      <td>481,39K</td>\n",
       "      <td>9,29%</td>\n",
       "    </tr>\n",
       "    <tr>\n",
       "      <th>3</th>\n",
       "      <td>1996-04</td>\n",
       "      <td>19,02</td>\n",
       "      <td>19,4</td>\n",
       "      <td>23,3</td>\n",
       "      <td>18,08</td>\n",
       "      <td>475,88K</td>\n",
       "      <td>-2,01%</td>\n",
       "    </tr>\n",
       "    <tr>\n",
       "      <th>4</th>\n",
       "      <td>1996-05</td>\n",
       "      <td>17,8</td>\n",
       "      <td>18,85</td>\n",
       "      <td>19,68</td>\n",
       "      <td>16,75</td>\n",
       "      <td>472,46K</td>\n",
       "      <td>-6,41%</td>\n",
       "    </tr>\n",
       "  </tbody>\n",
       "</table>\n",
       "</div>"
      ],
      "text/plain": [
       "     Datum Zuletzt Eröffn.   Hoch   Tief     Vol.   +/- %\n",
       "0  1996-01   16,52   18,55  19,31  15,93  505,04K  -9,87%\n",
       "1  1996-02   17,76    16,6  18,45  16,43  410,02K   7,51%\n",
       "2  1996-03   19,41    17,9   20,3   17,2  481,39K   9,29%\n",
       "3  1996-04   19,02    19,4   23,3  18,08  475,88K  -2,01%\n",
       "4  1996-05    17,8   18,85  19,68  16,75  472,46K  -6,41%"
      ]
     },
     "execution_count": 3,
     "metadata": {},
     "output_type": "execute_result"
    }
   ],
   "source": [
    "df.head()"
   ]
  },
  {
   "cell_type": "code",
   "execution_count": 4,
   "id": "fd094f5a",
   "metadata": {},
   "outputs": [],
   "source": [
    "columns_to_delete = list(range(2,7))\n",
    "df = df.drop(df.columns[columns_to_delete], axis=1)"
   ]
  },
  {
   "cell_type": "code",
   "execution_count": 5,
   "id": "1d44d22a",
   "metadata": {},
   "outputs": [
    {
     "data": {
      "text/html": [
       "<div>\n",
       "<style scoped>\n",
       "    .dataframe tbody tr th:only-of-type {\n",
       "        vertical-align: middle;\n",
       "    }\n",
       "\n",
       "    .dataframe tbody tr th {\n",
       "        vertical-align: top;\n",
       "    }\n",
       "\n",
       "    .dataframe thead th {\n",
       "        text-align: right;\n",
       "    }\n",
       "</style>\n",
       "<table border=\"1\" class=\"dataframe\">\n",
       "  <thead>\n",
       "    <tr style=\"text-align: right;\">\n",
       "      <th></th>\n",
       "      <th>Datum</th>\n",
       "      <th>Zuletzt</th>\n",
       "    </tr>\n",
       "  </thead>\n",
       "  <tbody>\n",
       "    <tr>\n",
       "      <th>0</th>\n",
       "      <td>1996-01</td>\n",
       "      <td>16,52</td>\n",
       "    </tr>\n",
       "    <tr>\n",
       "      <th>1</th>\n",
       "      <td>1996-02</td>\n",
       "      <td>17,76</td>\n",
       "    </tr>\n",
       "    <tr>\n",
       "      <th>2</th>\n",
       "      <td>1996-03</td>\n",
       "      <td>19,41</td>\n",
       "    </tr>\n",
       "    <tr>\n",
       "      <th>3</th>\n",
       "      <td>1996-04</td>\n",
       "      <td>19,02</td>\n",
       "    </tr>\n",
       "    <tr>\n",
       "      <th>4</th>\n",
       "      <td>1996-05</td>\n",
       "      <td>17,8</td>\n",
       "    </tr>\n",
       "  </tbody>\n",
       "</table>\n",
       "</div>"
      ],
      "text/plain": [
       "     Datum Zuletzt\n",
       "0  1996-01   16,52\n",
       "1  1996-02   17,76\n",
       "2  1996-03   19,41\n",
       "3  1996-04   19,02\n",
       "4  1996-05    17,8"
      ]
     },
     "execution_count": 5,
     "metadata": {},
     "output_type": "execute_result"
    }
   ],
   "source": [
    "df.head()"
   ]
  },
  {
   "cell_type": "markdown",
   "id": "5db197a4",
   "metadata": {},
   "source": [
    "### Adjustment of column names"
   ]
  },
  {
   "cell_type": "code",
   "execution_count": 6,
   "id": "1bdeb6c0",
   "metadata": {},
   "outputs": [],
   "source": [
    "df.rename(columns={'Datum': 'Time'}, inplace=True)\n",
    "df.rename(columns={'Zuletzt': 'Oil_price (USD per gallon)'}, inplace=True)"
   ]
  },
  {
   "cell_type": "code",
   "execution_count": 7,
   "id": "438c385d",
   "metadata": {},
   "outputs": [
    {
     "data": {
      "text/html": [
       "<div>\n",
       "<style scoped>\n",
       "    .dataframe tbody tr th:only-of-type {\n",
       "        vertical-align: middle;\n",
       "    }\n",
       "\n",
       "    .dataframe tbody tr th {\n",
       "        vertical-align: top;\n",
       "    }\n",
       "\n",
       "    .dataframe thead th {\n",
       "        text-align: right;\n",
       "    }\n",
       "</style>\n",
       "<table border=\"1\" class=\"dataframe\">\n",
       "  <thead>\n",
       "    <tr style=\"text-align: right;\">\n",
       "      <th></th>\n",
       "      <th>Time</th>\n",
       "      <th>Oil_price (USD per gallon)</th>\n",
       "    </tr>\n",
       "  </thead>\n",
       "  <tbody>\n",
       "    <tr>\n",
       "      <th>0</th>\n",
       "      <td>1996-01</td>\n",
       "      <td>16,52</td>\n",
       "    </tr>\n",
       "    <tr>\n",
       "      <th>1</th>\n",
       "      <td>1996-02</td>\n",
       "      <td>17,76</td>\n",
       "    </tr>\n",
       "    <tr>\n",
       "      <th>2</th>\n",
       "      <td>1996-03</td>\n",
       "      <td>19,41</td>\n",
       "    </tr>\n",
       "    <tr>\n",
       "      <th>3</th>\n",
       "      <td>1996-04</td>\n",
       "      <td>19,02</td>\n",
       "    </tr>\n",
       "    <tr>\n",
       "      <th>4</th>\n",
       "      <td>1996-05</td>\n",
       "      <td>17,8</td>\n",
       "    </tr>\n",
       "  </tbody>\n",
       "</table>\n",
       "</div>"
      ],
      "text/plain": [
       "      Time Oil_price (USD per gallon)\n",
       "0  1996-01                      16,52\n",
       "1  1996-02                      17,76\n",
       "2  1996-03                      19,41\n",
       "3  1996-04                      19,02\n",
       "4  1996-05                       17,8"
      ]
     },
     "execution_count": 7,
     "metadata": {},
     "output_type": "execute_result"
    }
   ],
   "source": [
    "df.head()"
   ]
  },
  {
   "cell_type": "markdown",
   "id": "eadbbce0",
   "metadata": {},
   "source": [
    "### Saving the data"
   ]
  },
  {
   "cell_type": "code",
   "execution_count": 8,
   "id": "77a0e796",
   "metadata": {},
   "outputs": [],
   "source": [
    "df.to_csv('C:/Users/Jakob/Desktop/Dataset/brent_oil_price.csv')"
   ]
  },
  {
   "cell_type": "code",
   "execution_count": null,
   "id": "feb7003c",
   "metadata": {},
   "outputs": [],
   "source": []
  }
 ],
 "metadata": {
  "kernelspec": {
   "display_name": "Python 3 (ipykernel)",
   "language": "python",
   "name": "python3"
  },
  "language_info": {
   "codemirror_mode": {
    "name": "ipython",
    "version": 3
   },
   "file_extension": ".py",
   "mimetype": "text/x-python",
   "name": "python",
   "nbconvert_exporter": "python",
   "pygments_lexer": "ipython3",
   "version": "3.11.3"
  }
 },
 "nbformat": 4,
 "nbformat_minor": 5
}
